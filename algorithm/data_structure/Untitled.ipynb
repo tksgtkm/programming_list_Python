{
 "cells": [
  {
   "cell_type": "code",
   "execution_count": 1,
   "id": "e2c31a4e-1dbf-4775-9dab-a726033e979e",
   "metadata": {},
   "outputs": [],
   "source": [
    "from dualarraydeque import DualArrayDeque"
   ]
  },
  {
   "cell_type": "code",
   "execution_count": 2,
   "id": "61b3201f-d527-4733-bb84-01df711f2c7a",
   "metadata": {},
   "outputs": [],
   "source": [
    "dad = DualArrayDeque()"
   ]
  },
  {
   "cell_type": "code",
   "execution_count": 3,
   "id": "48fa8671-0b8f-49ad-8e0f-09f9aef46210",
   "metadata": {},
   "outputs": [],
   "source": [
    "dad.add(0, 'aaa')"
   ]
  },
  {
   "cell_type": "code",
   "execution_count": 4,
   "id": "e9d4fe02-8258-42d8-a177-ed894d623a53",
   "metadata": {},
   "outputs": [],
   "source": [
    "dad.add(1, 'ddd')"
   ]
  },
  {
   "cell_type": "code",
   "execution_count": 5,
   "id": "88288eb7-4e79-460e-9de7-eefac56dc04c",
   "metadata": {},
   "outputs": [],
   "source": [
    "dad.add(1, 'sss')"
   ]
  },
  {
   "cell_type": "code",
   "execution_count": 6,
   "id": "14e48f5f-d16d-4455-af5a-ea20a3dc0d7c",
   "metadata": {},
   "outputs": [
    {
     "data": {
      "text/plain": [
       "DualArrayDeque(['aaa','sss','ddd'])"
      ]
     },
     "execution_count": 6,
     "metadata": {},
     "output_type": "execute_result"
    }
   ],
   "source": [
    "dad"
   ]
  },
  {
   "cell_type": "code",
   "execution_count": 7,
   "id": "e06bd3c3-5100-49eb-bef3-9f6d0700dc47",
   "metadata": {},
   "outputs": [
    {
     "data": {
      "text/plain": [
       "'sss'"
      ]
     },
     "execution_count": 7,
     "metadata": {},
     "output_type": "execute_result"
    }
   ],
   "source": [
    "dad.get(1)"
   ]
  },
  {
   "cell_type": "code",
   "execution_count": 8,
   "id": "e560ec82-d3b7-42ca-ac05-1ef46b29c1b1",
   "metadata": {},
   "outputs": [
    {
     "data": {
      "text/plain": [
       "'ddd'"
      ]
     },
     "execution_count": 8,
     "metadata": {},
     "output_type": "execute_result"
    }
   ],
   "source": [
    "dad.get(2)"
   ]
  },
  {
   "cell_type": "code",
   "execution_count": 9,
   "id": "cfc3a7cb-b619-40f3-880e-ebfaf74df69a",
   "metadata": {},
   "outputs": [
    {
     "data": {
      "text/plain": [
       "'ddd'"
      ]
     },
     "execution_count": 9,
     "metadata": {},
     "output_type": "execute_result"
    }
   ],
   "source": [
    "dad.set(2, 'abc')"
   ]
  },
  {
   "cell_type": "code",
   "execution_count": 10,
   "id": "8bea5c4b-8de7-4b10-9088-68d634f95722",
   "metadata": {},
   "outputs": [
    {
     "data": {
      "text/plain": [
       "DualArrayDeque(['aaa','sss','abc'])"
      ]
     },
     "execution_count": 10,
     "metadata": {},
     "output_type": "execute_result"
    }
   ],
   "source": [
    "dad"
   ]
  },
  {
   "cell_type": "code",
   "execution_count": 15,
   "id": "de5d4361-77b0-497e-8d4d-e99a23b63dd9",
   "metadata": {},
   "outputs": [
    {
     "data": {
      "text/plain": [
       "'sss'"
      ]
     },
     "execution_count": 15,
     "metadata": {},
     "output_type": "execute_result"
    }
   ],
   "source": [
    "dad.remove(1)"
   ]
  },
  {
   "cell_type": "code",
   "execution_count": 16,
   "id": "11c74e07-55ea-4646-8136-57242669c293",
   "metadata": {},
   "outputs": [
    {
     "data": {
      "text/plain": [
       "DualArrayDeque(['aaa','abc'])"
      ]
     },
     "execution_count": 16,
     "metadata": {},
     "output_type": "execute_result"
    }
   ],
   "source": [
    "dad"
   ]
  },
  {
   "cell_type": "code",
   "execution_count": null,
   "id": "4d7d6eb2-0ed1-417c-9068-f21cdf01e878",
   "metadata": {},
   "outputs": [],
   "source": []
  }
 ],
 "metadata": {
  "kernelspec": {
   "display_name": "Python 3 (ipykernel)",
   "language": "python",
   "name": "python3"
  },
  "language_info": {
   "codemirror_mode": {
    "name": "ipython",
    "version": 3
   },
   "file_extension": ".py",
   "mimetype": "text/x-python",
   "name": "python",
   "nbconvert_exporter": "python",
   "pygments_lexer": "ipython3",
   "version": "3.8.10"
  }
 },
 "nbformat": 4,
 "nbformat_minor": 5
}
