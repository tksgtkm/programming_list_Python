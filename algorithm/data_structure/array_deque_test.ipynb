{
 "cells": [
  {
   "cell_type": "code",
   "execution_count": 1,
   "id": "afd8428f-1c01-42ee-81ba-e4de548d80e3",
   "metadata": {},
   "outputs": [],
   "source": [
    "from arraydeque import ArrayDeque"
   ]
  },
  {
   "cell_type": "code",
   "execution_count": 2,
   "id": "86dafdf3-2189-4956-9d33-2466f3378dc6",
   "metadata": {},
   "outputs": [],
   "source": [
    "ad = ArrayDeque()"
   ]
  },
  {
   "cell_type": "code",
   "execution_count": 3,
   "id": "70b01705-8871-4baf-81c0-9c3810abee21",
   "metadata": {},
   "outputs": [],
   "source": [
    "ad.add(0, 'fdg')"
   ]
  },
  {
   "cell_type": "code",
   "execution_count": 4,
   "id": "2038e5a7-0a20-40b4-bb8d-290fbc00f800",
   "metadata": {},
   "outputs": [
    {
     "data": {
      "text/plain": [
       "ArrayDeque(['fdg'])"
      ]
     },
     "execution_count": 4,
     "metadata": {},
     "output_type": "execute_result"
    }
   ],
   "source": [
    "ad"
   ]
  },
  {
   "cell_type": "code",
   "execution_count": 6,
   "id": "d1697b37-f4ba-4b75-a901-6da6ec11df5c",
   "metadata": {},
   "outputs": [],
   "source": [
    "ad.add(1, 'feo')"
   ]
  },
  {
   "cell_type": "code",
   "execution_count": 7,
   "id": "9e1d85ed-8e69-4425-b7be-067b6a2383f8",
   "metadata": {},
   "outputs": [
    {
     "data": {
      "text/plain": [
       "ArrayDeque(['fdg','feo'])"
      ]
     },
     "execution_count": 7,
     "metadata": {},
     "output_type": "execute_result"
    }
   ],
   "source": [
    "ad"
   ]
  },
  {
   "cell_type": "code",
   "execution_count": 8,
   "id": "8a2eae4c-4194-4d48-b0a0-943805f760d1",
   "metadata": {},
   "outputs": [
    {
     "data": {
      "text/plain": [
       "'feo'"
      ]
     },
     "execution_count": 8,
     "metadata": {},
     "output_type": "execute_result"
    }
   ],
   "source": [
    "ad.get(1)"
   ]
  },
  {
   "cell_type": "code",
   "execution_count": 9,
   "id": "635f5be9-7deb-40e5-9165-d97f028e3fec",
   "metadata": {},
   "outputs": [
    {
     "ename": "IndexError",
     "evalue": "",
     "output_type": "error",
     "traceback": [
      "\u001b[0;31m---------------------------------------------------------------------------\u001b[0m",
      "\u001b[0;31mIndexError\u001b[0m                                Traceback (most recent call last)",
      "Cell \u001b[0;32mIn [9], line 1\u001b[0m\n\u001b[0;32m----> 1\u001b[0m \u001b[43mad\u001b[49m\u001b[38;5;241;43m.\u001b[39;49m\u001b[43mget\u001b[49m\u001b[43m(\u001b[49m\u001b[38;5;241;43m3\u001b[39;49m\u001b[43m)\u001b[49m\n",
      "File \u001b[0;32m~/develop/github/programming_list_Python/algorithm/data_structure/arraydeque.py:17\u001b[0m, in \u001b[0;36mArrayDeque.get\u001b[0;34m(self, i)\u001b[0m\n\u001b[1;32m     15\u001b[0m \u001b[38;5;28;01mdef\u001b[39;00m \u001b[38;5;21mget\u001b[39m(\u001b[38;5;28mself\u001b[39m, i):\n\u001b[1;32m     16\u001b[0m     \u001b[38;5;28;01mif\u001b[39;00m i \u001b[38;5;241m<\u001b[39m \u001b[38;5;241m0\u001b[39m \u001b[38;5;129;01mor\u001b[39;00m i \u001b[38;5;241m>\u001b[39m\u001b[38;5;241m=\u001b[39m \u001b[38;5;28mself\u001b[39m\u001b[38;5;241m.\u001b[39mn:\n\u001b[0;32m---> 17\u001b[0m         \u001b[38;5;28;01mraise\u001b[39;00m \u001b[38;5;167;01mIndexError\u001b[39;00m()\n\u001b[1;32m     18\u001b[0m     \u001b[38;5;28;01mreturn\u001b[39;00m \u001b[38;5;28mself\u001b[39m\u001b[38;5;241m.\u001b[39ma[(i \u001b[38;5;241m+\u001b[39m \u001b[38;5;28mself\u001b[39m\u001b[38;5;241m.\u001b[39mj)\u001b[38;5;241m%\u001b[39m\u001b[38;5;28mlen\u001b[39m(\u001b[38;5;28mself\u001b[39m\u001b[38;5;241m.\u001b[39ma)]\n",
      "\u001b[0;31mIndexError\u001b[0m: "
     ]
    }
   ],
   "source": [
    "ad.get(3)"
   ]
  },
  {
   "cell_type": "code",
   "execution_count": 13,
   "id": "803ae471-0a6a-44a2-93e0-3387f8da4026",
   "metadata": {},
   "outputs": [
    {
     "data": {
      "text/plain": [
       "'feo'"
      ]
     },
     "execution_count": 13,
     "metadata": {},
     "output_type": "execute_result"
    }
   ],
   "source": [
    "ad.set(1, 'rer')"
   ]
  },
  {
   "cell_type": "code",
   "execution_count": 14,
   "id": "903a6d86-ded0-472b-96a3-eeb8caed76c4",
   "metadata": {},
   "outputs": [
    {
     "data": {
      "text/plain": [
       "'rer'"
      ]
     },
     "execution_count": 14,
     "metadata": {},
     "output_type": "execute_result"
    }
   ],
   "source": [
    "ad.get(1)"
   ]
  },
  {
   "cell_type": "code",
   "execution_count": 15,
   "id": "42e4ebde-90cb-4a32-a5e0-665d8857f462",
   "metadata": {},
   "outputs": [
    {
     "data": {
      "text/plain": [
       "'rer'"
      ]
     },
     "execution_count": 15,
     "metadata": {},
     "output_type": "execute_result"
    }
   ],
   "source": [
    "ad.remove(1)"
   ]
  },
  {
   "cell_type": "code",
   "execution_count": 16,
   "id": "8eb739e9-3dab-4233-866a-3b63e7295c98",
   "metadata": {},
   "outputs": [
    {
     "data": {
      "text/plain": [
       "ArrayDeque(['fdg'])"
      ]
     },
     "execution_count": 16,
     "metadata": {},
     "output_type": "execute_result"
    }
   ],
   "source": [
    "ad"
   ]
  },
  {
   "cell_type": "code",
   "execution_count": null,
   "id": "fca9d221-9ef7-4056-b081-7612279ee0b2",
   "metadata": {},
   "outputs": [],
   "source": []
  }
 ],
 "metadata": {
  "kernelspec": {
   "display_name": "Python 3 (ipykernel)",
   "language": "python",
   "name": "python3"
  },
  "language_info": {
   "codemirror_mode": {
    "name": "ipython",
    "version": 3
   },
   "file_extension": ".py",
   "mimetype": "text/x-python",
   "name": "python",
   "nbconvert_exporter": "python",
   "pygments_lexer": "ipython3",
   "version": "3.8.10"
  }
 },
 "nbformat": 4,
 "nbformat_minor": 5
}
