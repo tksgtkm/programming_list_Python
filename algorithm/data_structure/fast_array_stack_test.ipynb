{
 "cells": [
  {
   "cell_type": "code",
   "execution_count": 1,
   "id": "7d4d9d8a-1d75-4caa-988e-863f69a05dca",
   "metadata": {},
   "outputs": [],
   "source": [
    "from fastarraystack import FastArrayStack"
   ]
  },
  {
   "cell_type": "code",
   "execution_count": 2,
   "id": "59b8c957-acff-47da-8616-061cdd3f0379",
   "metadata": {},
   "outputs": [],
   "source": [
    "fas = FastArrayStack()"
   ]
  },
  {
   "cell_type": "code",
   "execution_count": 3,
   "id": "14af4388-a4f7-4aba-8c51-a2698e80c427",
   "metadata": {},
   "outputs": [],
   "source": [
    "fas.add(0, [0, 1, 2, 3])"
   ]
  },
  {
   "cell_type": "code",
   "execution_count": 4,
   "id": "3021dfcb-8fed-49b9-8a2a-719b0ad1f537",
   "metadata": {},
   "outputs": [
    {
     "data": {
      "text/plain": [
       "FastArrayStack([[0, 1, 2, 3]])"
      ]
     },
     "execution_count": 4,
     "metadata": {},
     "output_type": "execute_result"
    }
   ],
   "source": [
    "fas"
   ]
  },
  {
   "cell_type": "code",
   "execution_count": 5,
   "id": "f476b1bc-2ff5-40b8-8985-97245cc7fdd3",
   "metadata": {},
   "outputs": [],
   "source": [
    "fas.add(1, 'abc')"
   ]
  },
  {
   "cell_type": "code",
   "execution_count": 6,
   "id": "2af286fd-da29-4b14-9973-cb1dbc1c58d1",
   "metadata": {},
   "outputs": [
    {
     "data": {
      "text/plain": [
       "FastArrayStack([[0, 1, 2, 3],'abc'])"
      ]
     },
     "execution_count": 6,
     "metadata": {},
     "output_type": "execute_result"
    }
   ],
   "source": [
    "fas"
   ]
  },
  {
   "cell_type": "code",
   "execution_count": 7,
   "id": "37986f88-c6e2-4bd9-b9e5-7f490bc63793",
   "metadata": {},
   "outputs": [
    {
     "data": {
      "text/plain": [
       "'abc'"
      ]
     },
     "execution_count": 7,
     "metadata": {},
     "output_type": "execute_result"
    }
   ],
   "source": [
    "fas.get(1)"
   ]
  },
  {
   "cell_type": "code",
   "execution_count": 8,
   "id": "75fe5c35-3c56-451b-bd1e-f79edfac2526",
   "metadata": {},
   "outputs": [
    {
     "data": {
      "text/plain": [
       "[0, 1, 2, 3]"
      ]
     },
     "execution_count": 8,
     "metadata": {},
     "output_type": "execute_result"
    }
   ],
   "source": [
    "fas.get(0)"
   ]
  },
  {
   "cell_type": "code",
   "execution_count": 9,
   "id": "2b456ae0-0865-40ca-a3e3-80c2b0d2ff14",
   "metadata": {},
   "outputs": [
    {
     "data": {
      "text/plain": [
       "'abc'"
      ]
     },
     "execution_count": 9,
     "metadata": {},
     "output_type": "execute_result"
    }
   ],
   "source": [
    "fas.set(1, 4)"
   ]
  },
  {
   "cell_type": "code",
   "execution_count": 10,
   "id": "9cc5fbb9-0965-48a8-9661-489a6794bbaa",
   "metadata": {},
   "outputs": [
    {
     "data": {
      "text/plain": [
       "FastArrayStack([[0, 1, 2, 3],4])"
      ]
     },
     "execution_count": 10,
     "metadata": {},
     "output_type": "execute_result"
    }
   ],
   "source": [
    "fas"
   ]
  },
  {
   "cell_type": "code",
   "execution_count": 11,
   "id": "97f01ee4-9d4d-4908-a4fe-70d7c73b7b6d",
   "metadata": {},
   "outputs": [
    {
     "data": {
      "text/plain": [
       "[0, 1, 2, 3]"
      ]
     },
     "execution_count": 11,
     "metadata": {},
     "output_type": "execute_result"
    }
   ],
   "source": [
    "fas.remove(0)"
   ]
  },
  {
   "cell_type": "code",
   "execution_count": 12,
   "id": "253d688b-6408-43fe-bdaf-66625dd402d7",
   "metadata": {},
   "outputs": [
    {
     "data": {
      "text/plain": [
       "FastArrayStack([4])"
      ]
     },
     "execution_count": 12,
     "metadata": {},
     "output_type": "execute_result"
    }
   ],
   "source": [
    "fas"
   ]
  },
  {
   "cell_type": "code",
   "execution_count": null,
   "id": "b3a34e75-8357-4ecc-b072-9eda81d5e255",
   "metadata": {},
   "outputs": [],
   "source": []
  }
 ],
 "metadata": {
  "kernelspec": {
   "display_name": "Python 3 (ipykernel)",
   "language": "python",
   "name": "python3"
  },
  "language_info": {
   "codemirror_mode": {
    "name": "ipython",
    "version": 3
   },
   "file_extension": ".py",
   "mimetype": "text/x-python",
   "name": "python",
   "nbconvert_exporter": "python",
   "pygments_lexer": "ipython3",
   "version": "3.8.10"
  }
 },
 "nbformat": 4,
 "nbformat_minor": 5
}
