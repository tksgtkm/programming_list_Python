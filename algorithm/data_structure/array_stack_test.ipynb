{
 "cells": [
  {
   "cell_type": "code",
   "execution_count": 1,
   "id": "7ab96cba-5d49-445f-b42e-ba4fd4140470",
   "metadata": {},
   "outputs": [],
   "source": [
    "from array_stack import ArrayStack"
   ]
  },
  {
   "cell_type": "code",
   "execution_count": 2,
   "id": "8bf1c782-1efe-46a8-bee8-3ba05eab85f9",
   "metadata": {},
   "outputs": [],
   "source": [
    "as_ = ArrayStack()"
   ]
  },
  {
   "cell_type": "code",
   "execution_count": 4,
   "id": "2cba885f-cd29-4fca-b14a-3fb6249fa981",
   "metadata": {},
   "outputs": [],
   "source": [
    "as_.add(0, [0, 1, 2, 3])"
   ]
  },
  {
   "cell_type": "code",
   "execution_count": 5,
   "id": "9ee356ed-b2de-4e4a-ab9c-a6c875506188",
   "metadata": {},
   "outputs": [
    {
     "data": {
      "text/plain": [
       "ArrayStack([[0, 1, 2, 3]])"
      ]
     },
     "execution_count": 5,
     "metadata": {},
     "output_type": "execute_result"
    }
   ],
   "source": [
    "as_"
   ]
  },
  {
   "cell_type": "code",
   "execution_count": 6,
   "id": "7ea21dd1-f7be-4936-a575-1dd10cde8330",
   "metadata": {},
   "outputs": [],
   "source": [
    "as_.add(1, 'abc')"
   ]
  },
  {
   "cell_type": "code",
   "execution_count": 7,
   "id": "48423106-32dc-4bd3-bd1c-2029644dab15",
   "metadata": {},
   "outputs": [
    {
     "data": {
      "text/plain": [
       "ArrayStack([[0, 1, 2, 3],'abc'])"
      ]
     },
     "execution_count": 7,
     "metadata": {},
     "output_type": "execute_result"
    }
   ],
   "source": [
    "as_"
   ]
  },
  {
   "cell_type": "code",
   "execution_count": 8,
   "id": "ac958897-6109-4fec-9524-2b633626d16a",
   "metadata": {},
   "outputs": [
    {
     "data": {
      "text/plain": [
       "'abc'"
      ]
     },
     "execution_count": 8,
     "metadata": {},
     "output_type": "execute_result"
    }
   ],
   "source": [
    "as_.get(1)"
   ]
  },
  {
   "cell_type": "code",
   "execution_count": 9,
   "id": "f3005f3e-a50f-4145-abe8-88c4ded9f438",
   "metadata": {},
   "outputs": [
    {
     "data": {
      "text/plain": [
       "[0, 1, 2, 3]"
      ]
     },
     "execution_count": 9,
     "metadata": {},
     "output_type": "execute_result"
    }
   ],
   "source": [
    "as_.get(0)"
   ]
  },
  {
   "cell_type": "code",
   "execution_count": 10,
   "id": "49c4c5d3-9c9d-4859-863a-0845f8dbd6ce",
   "metadata": {},
   "outputs": [
    {
     "data": {
      "text/plain": [
       "'abc'"
      ]
     },
     "execution_count": 10,
     "metadata": {},
     "output_type": "execute_result"
    }
   ],
   "source": [
    "as_.set(1, 4)"
   ]
  },
  {
   "cell_type": "code",
   "execution_count": 11,
   "id": "ff38fe4f-18a7-4fff-9bc7-ea576f984faf",
   "metadata": {},
   "outputs": [
    {
     "data": {
      "text/plain": [
       "ArrayStack([[0, 1, 2, 3],4])"
      ]
     },
     "execution_count": 11,
     "metadata": {},
     "output_type": "execute_result"
    }
   ],
   "source": [
    "as_"
   ]
  },
  {
   "cell_type": "code",
   "execution_count": 12,
   "id": "31b5dd80-8373-4365-a21e-c04f7f3b9998",
   "metadata": {},
   "outputs": [
    {
     "data": {
      "text/plain": [
       "ArrayStack([[0, 1, 2, 3],4])"
      ]
     },
     "execution_count": 12,
     "metadata": {},
     "output_type": "execute_result"
    }
   ],
   "source": [
    "as_"
   ]
  },
  {
   "cell_type": "code",
   "execution_count": 13,
   "id": "76bce1d3-5fac-47f5-8115-18ae4f13144f",
   "metadata": {},
   "outputs": [
    {
     "data": {
      "text/plain": [
       "[0, 1, 2, 3]"
      ]
     },
     "execution_count": 13,
     "metadata": {},
     "output_type": "execute_result"
    }
   ],
   "source": [
    "as_.remove(0)"
   ]
  },
  {
   "cell_type": "code",
   "execution_count": 14,
   "id": "47df595a-2cad-4091-9011-f68fa74ea181",
   "metadata": {},
   "outputs": [
    {
     "data": {
      "text/plain": [
       "ArrayStack([4])"
      ]
     },
     "execution_count": 14,
     "metadata": {},
     "output_type": "execute_result"
    }
   ],
   "source": [
    "as_"
   ]
  },
  {
   "cell_type": "code",
   "execution_count": null,
   "id": "9b8eca31-12db-40ea-baf4-357eac38bdb5",
   "metadata": {},
   "outputs": [],
   "source": []
  }
 ],
 "metadata": {
  "kernelspec": {
   "display_name": "Python 3 (ipykernel)",
   "language": "python",
   "name": "python3"
  },
  "language_info": {
   "codemirror_mode": {
    "name": "ipython",
    "version": 3
   },
   "file_extension": ".py",
   "mimetype": "text/x-python",
   "name": "python",
   "nbconvert_exporter": "python",
   "pygments_lexer": "ipython3",
   "version": "3.8.10"
  }
 },
 "nbformat": 4,
 "nbformat_minor": 5
}
