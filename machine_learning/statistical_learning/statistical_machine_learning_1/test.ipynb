{
 "cells": [
  {
   "cell_type": "code",
   "execution_count": 1,
   "id": "a18fc9e0-54f1-4d6f-bde4-6c0865901b00",
   "metadata": {},
   "outputs": [],
   "source": [
    "import numpy as np\n",
    "from scipy import stats"
   ]
  },
  {
   "cell_type": "markdown",
   "id": "60868067-0bf9-43e3-95dc-d62a297c73a3",
   "metadata": {},
   "source": [
    "# 仮説検定"
   ]
  },
  {
   "cell_type": "code",
   "execution_count": 15,
   "id": "c7558d51-19ad-419a-942e-24aa19b05dc9",
   "metadata": {},
   "outputs": [
    {
     "data": {
      "text/plain": [
       "0.6427223030922543"
      ]
     },
     "execution_count": 15,
     "metadata": {},
     "output_type": "execute_result"
    }
   ],
   "source": [
    "# データ生成\n",
    "dat = np.random.normal(loc=1.1, size=50)\n",
    "# 両側 t-検定\n",
    "Z, pval = stats.ttest_1samp(dat, 1)\n",
    "# 検定統計量\n",
    "Z"
   ]
  },
  {
   "cell_type": "code",
   "execution_count": 16,
   "id": "3129729a-3eee-483a-8d60-4694704cb96d",
   "metadata": {},
   "outputs": [
    {
     "data": {
      "text/plain": [
       "0.5234005222873784"
      ]
     },
     "execution_count": 16,
     "metadata": {},
     "output_type": "execute_result"
    }
   ],
   "source": [
    "# p値\n",
    "pval"
   ]
  },
  {
   "cell_type": "code",
   "execution_count": 17,
   "id": "99d45380-fc96-41e6-ae30-e3cb223d883e",
   "metadata": {},
   "outputs": [
    {
     "data": {
      "text/plain": [
       "0.2390273151228389"
      ]
     },
     "execution_count": 17,
     "metadata": {},
     "output_type": "execute_result"
    }
   ],
   "source": [
    "# データ数200\n",
    "dat = np.random.normal(loc=1.1, size=200)\n",
    "# 両側 t-検定\n",
    "Z, pval = stats.ttest_1samp(dat, 1)\n",
    "# p値\n",
    "pval"
   ]
  },
  {
   "cell_type": "code",
   "execution_count": 5,
   "id": "d5cd2758-730f-4a83-9fef-21019d72bdba",
   "metadata": {},
   "outputs": [
    {
     "data": {
      "text/plain": [
       "0.29766809474563655"
      ]
     },
     "execution_count": 5,
     "metadata": {},
     "output_type": "execute_result"
    }
   ],
   "source": [
    "dat = np.random.normal(loc=1.1, size=200)\n",
    "Z, pval = stats.ttest_1samp(dat, 1)\n",
    "pval"
   ]
  },
  {
   "cell_type": "code",
   "execution_count": 18,
   "id": "1a0a89b8-b749-44ff-a931-76794ae1cc59",
   "metadata": {},
   "outputs": [],
   "source": [
    "# データ生成\n",
    "dat = np.random.normal(loc=1.1, size=200)\n",
    "# 両側 t-検定\n",
    "Z, pval = stats.ttest_1samp(dat, 1)"
   ]
  },
  {
   "cell_type": "code",
   "execution_count": 7,
   "id": "c52fdde3-2c65-4977-a670-428f254f8f0a",
   "metadata": {},
   "outputs": [
    {
     "data": {
      "text/plain": [
       "0.2913254407191645"
      ]
     },
     "execution_count": 7,
     "metadata": {},
     "output_type": "execute_result"
    }
   ],
   "source": [
    "# 両側検定のp値\n",
    "pval"
   ]
  },
  {
   "cell_type": "code",
   "execution_count": 8,
   "id": "834956cc-5dee-40fc-88f1-95bd2a44caea",
   "metadata": {},
   "outputs": [
    {
     "data": {
      "text/plain": [
       "0.14566272035958225"
      ]
     },
     "execution_count": 8,
     "metadata": {},
     "output_type": "execute_result"
    }
   ],
   "source": [
    "# 片側検定のp値\n",
    "pval / 2"
   ]
  },
  {
   "cell_type": "code",
   "execution_count": 9,
   "id": "c448b61f-a5f3-4281-9724-b19e5cbabe9e",
   "metadata": {},
   "outputs": [],
   "source": [
    "# データ生成\n",
    "x = np.random.normal(loc=1.1, size=100)\n",
    "y = np.random.normal(loc=1, size=500)"
   ]
  },
  {
   "cell_type": "code",
   "execution_count": 10,
   "id": "5066b4d7-68d9-44b5-a70b-a6c6d62faeef",
   "metadata": {},
   "outputs": [
    {
     "data": {
      "text/plain": [
       "0.09578569363300013"
      ]
     },
     "execution_count": 10,
     "metadata": {},
     "output_type": "execute_result"
    }
   ],
   "source": [
    "# 二標本検定：等分散を検定\n",
    "Z, pval = stats.ttest_ind(x, y)\n",
    "pval"
   ]
  },
  {
   "cell_type": "code",
   "execution_count": 11,
   "id": "57bbda5e-6e81-4191-a03c-47f370f855c0",
   "metadata": {},
   "outputs": [
    {
     "data": {
      "text/plain": [
       "0.13911777555305585"
      ]
     },
     "execution_count": 11,
     "metadata": {},
     "output_type": "execute_result"
    }
   ],
   "source": [
    "# 二標本検定：等分散を検定しない\n",
    "Z, pval = stats.ttest_ind(x, y, equal_var=False)\n",
    "pval"
   ]
  },
  {
   "cell_type": "code",
   "execution_count": 12,
   "id": "eb050032-505e-441b-af42-a7737ee7d9b7",
   "metadata": {},
   "outputs": [],
   "source": [
    "# データ生成\n",
    "x = np.random.normal(loc=1.1, scale=1, size=1000)\n",
    "y = np.random.normal(loc=1, scale=1.1, size=1000)"
   ]
  },
  {
   "cell_type": "code",
   "execution_count": 13,
   "id": "f04c7c7a-23b9-47ed-b936-d62fcaa6823f",
   "metadata": {},
   "outputs": [
    {
     "data": {
      "text/plain": [
       "0.050537661540929736"
      ]
     },
     "execution_count": 13,
     "metadata": {},
     "output_type": "execute_result"
    }
   ],
   "source": [
    "# 二標本検定：等分散を検定しない\n",
    "Z, pval = stats.ttest_ind(x, y, equal_var=False)\n",
    "pval"
   ]
  },
  {
   "cell_type": "code",
   "execution_count": 14,
   "id": "98439973-9351-425a-8ffe-710019c5059d",
   "metadata": {},
   "outputs": [
    {
     "data": {
      "text/plain": [
       "0.04413396489893322"
      ]
     },
     "execution_count": 14,
     "metadata": {},
     "output_type": "execute_result"
    }
   ],
   "source": [
    "# 二標本(ペア)：データを変換し ttest_1sampで計算\n",
    "Z, pval = stats.ttest_1samp(x - y, 0)\n",
    "pval"
   ]
  },
  {
   "cell_type": "markdown",
   "id": "39e281c6-940c-4dac-b75b-c98b7af040b1",
   "metadata": {},
   "source": [
    "# ノンパラメトリック検定"
   ]
  },
  {
   "cell_type": "markdown",
   "id": "58289115-41fb-4d79-9bef-94792e1017a2",
   "metadata": {},
   "source": [
    "## U検定"
   ]
  },
  {
   "cell_type": "code",
   "execution_count": 20,
   "id": "4189acb4-ccdd-4c83-8c6b-707a951f468b",
   "metadata": {},
   "outputs": [
    {
     "data": {
      "text/plain": [
       "71853.0"
      ]
     },
     "execution_count": 20,
     "metadata": {},
     "output_type": "execute_result"
    }
   ],
   "source": [
    "# 同じ分布に従う標本\n",
    "x = np.random.normal(loc=1, size=500)\n",
    "y = np.random.normal(loc=1, size=300)\n",
    "# 両側検定\n",
    "r, pval = stats.mannwhitneyu(x, y, alternative='two-sided')\n",
    "# U検定量\n",
    "r"
   ]
  },
  {
   "cell_type": "code",
   "execution_count": 21,
   "id": "b9514e27-5d34-47fa-a60a-984cf0c25afe",
   "metadata": {},
   "outputs": [
    {
     "data": {
      "text/plain": [
       "0.3200333429692832"
      ]
     },
     "execution_count": 21,
     "metadata": {},
     "output_type": "execute_result"
    }
   ],
   "source": [
    "pval"
   ]
  },
  {
   "cell_type": "code",
   "execution_count": 22,
   "id": "444c4969-fde6-43fe-9ebd-b7c9578c5473",
   "metadata": {},
   "outputs": [
    {
     "data": {
      "text/plain": [
       "76413.0"
      ]
     },
     "execution_count": 22,
     "metadata": {},
     "output_type": "execute_result"
    }
   ],
   "source": [
    "# 同じ期待値の分布に従う標本、分散は異なる\n",
    "x = np.random.normal(loc=1, scale=2, size=500)\n",
    "y = np.random.normal(loc=1, scale=1, size=300)\n",
    "r, pval = stats.mannwhitneyu(x, y, alternative='two-sided')\n",
    "r"
   ]
  },
  {
   "cell_type": "code",
   "execution_count": 23,
   "id": "fcfad28c-8d6c-4104-9d12-e063dc0f1ec0",
   "metadata": {},
   "outputs": [
    {
     "data": {
      "text/plain": [
       "0.6553135247674517"
      ]
     },
     "execution_count": 23,
     "metadata": {},
     "output_type": "execute_result"
    }
   ],
   "source": [
    "pval"
   ]
  },
  {
   "cell_type": "code",
   "execution_count": 25,
   "id": "0655b1c3-6395-489d-a747-0eff95ec6235",
   "metadata": {},
   "outputs": [
    {
     "data": {
      "text/plain": [
       "89311.0"
      ]
     },
     "execution_count": 25,
     "metadata": {},
     "output_type": "execute_result"
    }
   ],
   "source": [
    "# 異なる期待値の分布に従う標本\n",
    "x = np.random.normal(loc=1.2, size=500)\n",
    "y = np.random.normal(loc=1, size=300)\n",
    "r, pval = stats.mannwhitneyu(x, y, alternative='two-sided')\n",
    "r"
   ]
  },
  {
   "cell_type": "code",
   "execution_count": 26,
   "id": "a9813183-573f-484d-bc3e-a6a52a2a6306",
   "metadata": {},
   "outputs": [
    {
     "data": {
      "text/plain": [
       "6.109854678764167e-06"
      ]
     },
     "execution_count": 26,
     "metadata": {},
     "output_type": "execute_result"
    }
   ],
   "source": [
    "pval"
   ]
  },
  {
   "cell_type": "code",
   "execution_count": null,
   "id": "bc839aa8-9190-4e93-ae5c-46f8098cc562",
   "metadata": {},
   "outputs": [],
   "source": []
  }
 ],
 "metadata": {
  "kernelspec": {
   "display_name": "Python 3 (ipykernel)",
   "language": "python",
   "name": "python3"
  },
  "language_info": {
   "codemirror_mode": {
    "name": "ipython",
    "version": 3
   },
   "file_extension": ".py",
   "mimetype": "text/x-python",
   "name": "python",
   "nbconvert_exporter": "python",
   "pygments_lexer": "ipython3",
   "version": "3.8.10"
  }
 },
 "nbformat": 4,
 "nbformat_minor": 5
}
