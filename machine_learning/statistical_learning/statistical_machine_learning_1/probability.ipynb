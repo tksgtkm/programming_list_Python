{
 "cells": [
  {
   "cell_type": "code",
   "execution_count": 1,
   "id": "bb401a6b-a34e-46e7-9a11-2245d574379f",
   "metadata": {},
   "outputs": [],
   "source": [
    "import numpy as np\n",
    "import scipy as sp"
   ]
  },
  {
   "cell_type": "markdown",
   "id": "3acd0280-4230-4258-bae8-50f031a6c045",
   "metadata": {},
   "source": [
    "pythonを用いてサイコロ投げの振る舞いを観察する。"
   ]
  },
  {
   "cell_type": "markdown",
   "id": "e03bd065-a184-4306-8192-c32cadbabef9",
   "metadata": {},
   "source": [
    "## 復元抽出\n",
    "標本空間から何度でも取り出せる"
   ]
  },
  {
   "cell_type": "code",
   "execution_count": 2,
   "id": "1ff445e0-4d17-42da-b989-0ed196931cd8",
   "metadata": {},
   "outputs": [
    {
     "data": {
      "text/plain": [
       "array([4, 2, 3, 5, 6, 4, 3, 1, 6, 4])"
      ]
     },
     "execution_count": 2,
     "metadata": {},
     "output_type": "execute_result"
    }
   ],
   "source": [
    "np.random.choice(np.arange(1, 7), 10)"
   ]
  },
  {
   "cell_type": "markdown",
   "id": "7d5afad6-f754-4b3c-840b-1954b84306ce",
   "metadata": {},
   "source": [
    "## 非復元抽出\n",
    "標本空間から何度でも取り出せない"
   ]
  },
  {
   "cell_type": "code",
   "execution_count": 3,
   "id": "6bb277bd-59ef-4355-b960-81e2b1239760",
   "metadata": {},
   "outputs": [
    {
     "data": {
      "text/plain": [
       "array([2, 1, 5, 4, 6])"
      ]
     },
     "execution_count": 3,
     "metadata": {},
     "output_type": "execute_result"
    }
   ],
   "source": [
    "np.random.choice(np.arange(1, 7), 5, replace=False)"
   ]
  },
  {
   "cell_type": "markdown",
   "id": "8eb3a912-b487-4d4d-aa31-13427f94459d",
   "metadata": {},
   "source": [
    "# 期待値と分散"
   ]
  },
  {
   "cell_type": "markdown",
   "id": "01d3233f-1547-46a4-91a4-491d6a2d3e4e",
   "metadata": {},
   "source": [
    "期待値：Xが取りうる値の中で平均的な値を期待値といい、$E[X]$と表す。<br>\n",
    "　　　　標本空間をRとすると<br>\n",
    "$\n",
    "E[X] = \\int_{-\\infty}^{\\infty} x f(x) \\, dx\n",
    "$\n"
   ]
  },
  {
   "cell_type": "code",
   "execution_count": 4,
   "id": "9c50f1e6-33dd-450e-b3a4-2c7e337648cd",
   "metadata": {},
   "outputs": [
    {
     "data": {
      "text/plain": [
       "1.26703353558903"
      ]
     },
     "execution_count": 4,
     "metadata": {},
     "output_type": "execute_result"
    }
   ],
   "source": [
    "# 期待値1、標準偏差2の正規分布に従うデータを100個生成\n",
    "x = np.random.normal(1, 2, 100)\n",
    "# データの平均値を計算\n",
    "x.mean()"
   ]
  },
  {
   "cell_type": "code",
   "execution_count": 5,
   "id": "954ad8d6-87b0-4b3e-8b3e-67a5c20dffbb",
   "metadata": {},
   "outputs": [
    {
     "data": {
      "text/plain": [
       "2.079774562667259"
      ]
     },
     "execution_count": 5,
     "metadata": {},
     "output_type": "execute_result"
    }
   ],
   "source": [
    "# データの標準偏差を計算\n",
    "x.std()"
   ]
  },
  {
   "cell_type": "code",
   "execution_count": 6,
   "id": "6ee109b1-1df6-47e8-b50c-aca3ed01f7a7",
   "metadata": {},
   "outputs": [
    {
     "data": {
      "text/plain": [
       "0.73"
      ]
     },
     "execution_count": 6,
     "metadata": {},
     "output_type": "execute_result"
    }
   ],
   "source": [
    "# |x-E[x]]| ≦ sd(x) となるデータの割合\n",
    "np.mean(np.abs(x - np.mean(x)) <= np.std(x))"
   ]
  },
  {
   "cell_type": "code",
   "execution_count": 7,
   "id": "77854f4b-8de3-4cb2-9ebf-ad180a05b031",
   "metadata": {},
   "outputs": [
    {
     "data": {
      "text/plain": [
       "0.97"
      ]
     },
     "execution_count": 7,
     "metadata": {},
     "output_type": "execute_result"
    }
   ],
   "source": [
    " # |x-E[x]]| ≦ 2*sd(x) となるデータの割合\n",
    "np.mean(np.abs(x - np.mean(x)) <= 2*np.std(x))"
   ]
  },
  {
   "cell_type": "markdown",
   "id": "5279a65d-fd7d-4b9d-a911-ea9e6d12c5ca",
   "metadata": {},
   "source": [
    "# 分位点"
   ]
  },
  {
   "cell_type": "code",
   "execution_count": 9,
   "id": "1e730be1-2274-4390-b989-2deff4f78228",
   "metadata": {},
   "outputs": [
    {
     "data": {
      "text/plain": [
       "0.5244005127080407"
      ]
     },
     "execution_count": 9,
     "metadata": {},
     "output_type": "execute_result"
    }
   ],
   "source": [
    "sp.stats.norm.ppf(0.7)"
   ]
  },
  {
   "cell_type": "code",
   "execution_count": 10,
   "id": "5912ab29-3f0d-4943-a749-99659232b6e8",
   "metadata": {},
   "outputs": [
    {
     "data": {
      "text/plain": [
       "2.0488010254160813"
      ]
     },
     "execution_count": 10,
     "metadata": {},
     "output_type": "execute_result"
    }
   ],
   "source": [
    "sp.stats.norm.ppf(0.7, loc=1, scale=2)"
   ]
  },
  {
   "cell_type": "code",
   "execution_count": 11,
   "id": "bf728c42-146a-47b8-90c7-d335ef88bd20",
   "metadata": {},
   "outputs": [
    {
     "data": {
      "text/plain": [
       "1.6448536269514722"
      ]
     },
     "execution_count": 11,
     "metadata": {},
     "output_type": "execute_result"
    }
   ],
   "source": [
    "alpha = 0.05\n",
    "sp.stats.norm.ppf(1 - alpha)"
   ]
  },
  {
   "cell_type": "markdown",
   "id": "6806e73f-da3e-4e9e-bc6a-45890464db5d",
   "metadata": {},
   "source": [
    "# 共分散・相関係数"
   ]
  },
  {
   "cell_type": "code",
   "execution_count": 12,
   "id": "28319fa4-bc33-41bd-91f1-b5082dfe4fe1",
   "metadata": {},
   "outputs": [
    {
     "data": {
      "text/plain": [
       "(150, 4)"
      ]
     },
     "execution_count": 12,
     "metadata": {},
     "output_type": "execute_result"
    }
   ],
   "source": [
    "from sklearn.datasets import load_iris\n",
    "\n",
    "iris = load_iris()\n",
    "iris.data.shape"
   ]
  },
  {
   "cell_type": "code",
   "execution_count": 13,
   "id": "c93f5635-9a01-4820-a826-7ec162cb3f1b",
   "metadata": {},
   "outputs": [
    {
     "data": {
      "text/plain": [
       "array([[ 0.68569351, -0.042434  ,  1.27431544,  0.51627069],\n",
       "       [-0.042434  ,  0.18997942, -0.32965638, -0.12163937],\n",
       "       [ 1.27431544, -0.32965638,  3.11627785,  1.2956094 ],\n",
       "       [ 0.51627069, -0.12163937,  1.2956094 ,  0.58100626]])"
      ]
     },
     "execution_count": 13,
     "metadata": {},
     "output_type": "execute_result"
    }
   ],
   "source": [
    "# 分散共分散行列(データ行列の転置を入れる)\n",
    "np.cov(iris.data.T)"
   ]
  },
  {
   "cell_type": "code",
   "execution_count": 14,
   "id": "53576c84-b6ec-4b86-8600-bb27623f0730",
   "metadata": {},
   "outputs": [
    {
     "data": {
      "text/plain": [
       "array([[ 1.        , -0.11756978,  0.87175378,  0.81794113],\n",
       "       [-0.11756978,  1.        , -0.4284401 , -0.36612593],\n",
       "       [ 0.87175378, -0.4284401 ,  1.        ,  0.96286543],\n",
       "       [ 0.81794113, -0.36612593,  0.96286543,  1.        ]])"
      ]
     },
     "execution_count": 14,
     "metadata": {},
     "output_type": "execute_result"
    }
   ],
   "source": [
    "# 相関係数行列(データ行列の転置を入れる)\n",
    "np.corrcoef(iris.data.T)"
   ]
  },
  {
   "cell_type": "code",
   "execution_count": null,
   "id": "214fb50a-5328-43d8-ac62-5d6208461659",
   "metadata": {},
   "outputs": [],
   "source": []
  },
  {
   "cell_type": "code",
   "execution_count": null,
   "id": "d958de7c-7d3c-479e-8592-3e05b6bc1596",
   "metadata": {},
   "outputs": [],
   "source": []
  }
 ],
 "metadata": {
  "kernelspec": {
   "display_name": "Python 3",
   "language": "python",
   "name": "python3"
  },
  "language_info": {
   "codemirror_mode": {
    "name": "ipython",
    "version": 3
   },
   "file_extension": ".py",
   "mimetype": "text/x-python",
   "name": "python",
   "nbconvert_exporter": "python",
   "pygments_lexer": "ipython3",
   "version": "3.8.10"
  }
 },
 "nbformat": 4,
 "nbformat_minor": 5
}
