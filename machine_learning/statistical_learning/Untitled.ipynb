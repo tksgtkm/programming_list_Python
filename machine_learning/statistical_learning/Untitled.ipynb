{
 "cells": [
  {
   "cell_type": "code",
   "execution_count": 1,
   "id": "788e55bd-8777-4f7b-8933-7eb49c423bf2",
   "metadata": {},
   "outputs": [],
   "source": [
    "import numpy as np\n",
    "import matplotlib.pyplot as plt\n",
    "import pandas as pd"
   ]
  },
  {
   "cell_type": "markdown",
   "id": "728ab98d-0c91-49ae-99f2-2508dc9c9410",
   "metadata": {},
   "source": [
    "## 統計モデル"
   ]
  },
  {
   "cell_type": "code",
   "execution_count": 2,
   "id": "34ce079f-737e-4479-8180-cde286623b73",
   "metadata": {},
   "outputs": [
    {
     "data": {
      "image/png": "[encoded data removed]",
      "text/plain": [
       "<Figure size 640x480 with 1 Axes>"
      ]
     },
     "metadata": {},
     "output_type": "display_data"
    }
   ],
   "source": [
    "dat = pd.read_csv('data/morley.csv')\n",
    "plt.hist(dat, bins=20, rwidth=0.9)\n",
    "plt.show()"
   ]
  },
  {
   "cell_type": "markdown",
   "id": "31fb18c2-8f22-46c2-9ca0-c8cef4b18801",
   "metadata": {},
   "source": [
    "## 最尤推定量の計算法"
   ]
  },
  {
   "cell_type": "code",
   "execution_count": 3,
   "id": "6c6ff364-e1ec-487a-b32b-475f01b7bee7",
   "metadata": {},
   "outputs": [
    {
     "data": {
      "text/plain": [
       "0.8477082941827901"
      ]
     },
     "execution_count": 3,
     "metadata": {},
     "output_type": "execute_result"
    }
   ],
   "source": [
    "x = np.random.uniform(size=10)\n",
    "np.max(x)"
   ]
  },
  {
   "cell_type": "code",
   "execution_count": 4,
   "id": "74a17051-cc48-4dc0-921e-b4d522dae108",
   "metadata": {},
   "outputs": [
    {
     "data": {
      "text/plain": [
       "0.9992435396630812"
      ]
     },
     "execution_count": 4,
     "metadata": {},
     "output_type": "execute_result"
    }
   ],
   "source": [
    "x = np.random.uniform(size=100)\n",
    "np.max(x)"
   ]
  },
  {
   "cell_type": "code",
   "execution_count": 5,
   "id": "94fa0740-a68f-49f6-b8ba-d198738b82db",
   "metadata": {},
   "outputs": [
    {
     "data": {
      "text/plain": [
       "0.9513607223342467"
      ]
     },
     "execution_count": 5,
     "metadata": {},
     "output_type": "execute_result"
    }
   ],
   "source": [
    "# データ数\n",
    "n = 10\n",
    "# データ生成\n",
    "x = np.random.uniform(size=n)\n",
    "# 不偏推定量\n",
    "((n+1) / n) * np.max(x)"
   ]
  },
  {
   "cell_type": "code",
   "execution_count": 6,
   "id": "5136097e-1581-4d2f-af7d-3773c33c99d1",
   "metadata": {},
   "outputs": [
    {
     "data": {
      "text/plain": [
       "(100, 10)"
      ]
     },
     "execution_count": 6,
     "metadata": {},
     "output_type": "execute_result"
    }
   ],
   "source": [
    "X = np.random.rand(100, n)\n",
    "X.shape"
   ]
  },
  {
   "cell_type": "code",
   "execution_count": 7,
   "id": "161ab658-ab03-4720-a3e1-2a18daabc1d4",
   "metadata": {},
   "outputs": [
    {
     "data": {
      "text/plain": [
       "0.9151482988378303"
      ]
     },
     "execution_count": 7,
     "metadata": {},
     "output_type": "execute_result"
    }
   ],
   "source": [
    "# 最尤推定の平均値\n",
    "# np.maxで行列Xの各行(axis=1)にmaxを適用\n",
    "# それらの平均値を求める\n",
    "np.mean(np.max(X, axis=1))"
   ]
  },
  {
   "cell_type": "code",
   "execution_count": 8,
   "id": "b8657ce7-f2e6-452f-a4dd-9a01e04bd5c7",
   "metadata": {},
   "outputs": [
    {
     "data": {
      "text/plain": [
       "1.0066631287216137"
      ]
     },
     "execution_count": 8,
     "metadata": {},
     "output_type": "execute_result"
    }
   ],
   "source": [
    "# 不偏推定量の平均値\n",
    "np.mean((n+1)/n * np.max(X, axis=1))"
   ]
  },
  {
   "cell_type": "code",
   "execution_count": 9,
   "id": "24c8b24a-b8e9-42c1-9f7d-f761f9794340",
   "metadata": {},
   "outputs": [],
   "source": [
    "df = pd.DataFrame(X)"
   ]
  },
  {
   "cell_type": "code",
   "execution_count": 10,
   "id": "571ad5af-c101-4d6b-a1e8-9dfac583ae29",
   "metadata": {},
   "outputs": [
    {
     "data": {
      "text/plain": [
       "0.9151482988378303"
      ]
     },
     "execution_count": 10,
     "metadata": {},
     "output_type": "execute_result"
    }
   ],
   "source": [
    "# 最尤推定の平均値\n",
    "np.mean(df.apply(np.max, axis=1))"
   ]
  },
  {
   "cell_type": "code",
   "execution_count": 11,
   "id": "0064080c-b8ab-4ea0-9c33-dc5f0d6c53ac",
   "metadata": {},
   "outputs": [
    {
     "data": {
      "text/plain": [
       "1.0066631287216137"
      ]
     },
     "execution_count": 11,
     "metadata": {},
     "output_type": "execute_result"
    }
   ],
   "source": [
    "# 不偏推定の平均値\n",
    "np.mean(df.apply(lambda x:(n+1)/n*np.max(x), axis=1))"
   ]
  },
  {
   "cell_type": "code",
   "execution_count": 12,
   "id": "7d89e027-bf98-41f8-bfd1-7daba40073b4",
   "metadata": {},
   "outputs": [],
   "source": [
    "from common import bloodtype as bt"
   ]
  },
  {
   "cell_type": "code",
   "execution_count": 13,
   "id": "7ca85a9f-76ff-41d3-aad1-edece3436f66",
   "metadata": {},
   "outputs": [
    {
     "name": "stdout",
     "output_type": "stream",
     "text": [
      "Optimization terminated successfully.\n",
      "         Current function value: 144.056068\n",
      "         Iterations: 28\n",
      "         Function evaluations: 54\n"
     ]
    },
    {
     "data": {
      "text/plain": [
       "array([ 0.30046383,  0.25462732, -0.55509115])"
      ]
     },
     "execution_count": 13,
     "metadata": {},
     "output_type": "execute_result"
    }
   ],
   "source": [
    "n = np.array([40, 30, 10, 20])\n",
    "bt.mle(n)"
   ]
  },
  {
   "cell_type": "markdown",
   "id": "8a9ccfed-b929-4451-acf0-41bbb74de85d",
   "metadata": {},
   "source": [
    "## 混合モデルとEMアルゴリズム"
   ]
  },
  {
   "cell_type": "code",
   "execution_count": 14,
   "id": "bc6b93ef-a146-49c3-a9d8-ebe30beef25b",
   "metadata": {},
   "outputs": [
    {
     "data": {
      "text/plain": [
       "(3822, 64)"
      ]
     },
     "execution_count": 14,
     "metadata": {},
     "output_type": "execute_result"
    }
   ],
   "source": [
    "from common.statmodelEMalg import EMmixBernoulli\n",
    "a = pd.read_csv('data/optdigits_train.csv')\n",
    "x = a.values[:, 0:64] > 8\n",
    "x.shape"
   ]
  },
  {
   "cell_type": "code",
   "execution_count": 15,
   "id": "2e178985-fe52-4d3c-9976-6ec3d9201052",
   "metadata": {},
   "outputs": [],
   "source": [
    "y = a.values[:, 64]\n",
    "em = EMmixBernoulli(K=10)\n",
    "em.fit(x)\n",
    "ec = em.predict(x)"
   ]
  },
  {
   "cell_type": "code",
   "execution_count": 16,
   "id": "910083b0-dd25-49a4-970e-4ffef1bb05db",
   "metadata": {},
   "outputs": [
    {
     "data": {
      "text/plain": [
       "array([[  0,   1,   2,   4,   5,   6,   8],\n",
       "       [  1,   5,   1,   3,   2, 367,   4]])"
      ]
     },
     "execution_count": 16,
     "metadata": {},
     "output_type": "execute_result"
    }
   ],
   "source": [
    "u, c = np.unique(y[ec==0], return_counts=True)\n",
    "np.c_[u, c].T"
   ]
  },
  {
   "cell_type": "code",
   "execution_count": 17,
   "id": "17112675-9efe-4203-bb66-9cde0628d7c5",
   "metadata": {},
   "outputs": [
    {
     "data": {
      "text/plain": [
       "array([[  0,   1,   4,   5,   6],\n",
       "       [  1,   1, 256,   1,   1]])"
      ]
     },
     "execution_count": 17,
     "metadata": {},
     "output_type": "execute_result"
    }
   ],
   "source": [
    "u, c = np.unique(y[ec==2], return_counts=True)\n",
    "np.c_[u, c].T"
   ]
  },
  {
   "cell_type": "code",
   "execution_count": 18,
   "id": "5c37ee1d-3f55-4bcd-9a1d-21baab5e357f",
   "metadata": {},
   "outputs": [
    {
     "data": {
      "text/plain": [
       "array([[  0,   1,   4,   5,   6],\n",
       "       [  1,   1, 256,   1,   1]])"
      ]
     },
     "execution_count": 18,
     "metadata": {},
     "output_type": "execute_result"
    }
   ],
   "source": [
    "em.K = 5\n",
    "ec = em.predict(x)\n",
    "u, c = np.unique(y[ec==2], return_counts=True)\n",
    "np.c_[u, c].T"
   ]
  },
  {
   "cell_type": "code",
   "execution_count": 19,
   "id": "0d8dec0d-737f-41c4-a4fb-19f0ecd55d40",
   "metadata": {},
   "outputs": [
    {
     "data": {
      "text/plain": [
       "75748.48965028372"
      ]
     },
     "execution_count": 19,
     "metadata": {},
     "output_type": "execute_result"
    }
   ],
   "source": [
    "em.BIC"
   ]
  },
  {
   "cell_type": "code",
   "execution_count": 20,
   "id": "c8037606-b8ef-4f67-a810-f7f4c4401d65",
   "metadata": {},
   "outputs": [
    {
     "name": "stdout",
     "output_type": "stream",
     "text": [
      "K= 10\n",
      "K= 20\n",
      "K= 30\n",
      "K= 40\n",
      "K= 50\n"
     ]
    }
   ],
   "source": [
    "eml = EMmixBernoulli()\n",
    "Klist = np.arange(4, 51)\n",
    "BIClist = np.array([])\n",
    "for K in Klist:\n",
    "    if K % 10 == 0:\n",
    "        print('K=', K)\n",
    "    eml.K = K\n",
    "    eml.fit(x)\n",
    "    BIClist = np.append(BIClist, eml.BIC)"
   ]
  },
  {
   "cell_type": "code",
   "execution_count": 21,
   "id": "4a911b9c-f9a6-41ae-9625-00d9c69afabf",
   "metadata": {},
   "outputs": [
    {
     "data": {
      "text/plain": [
       "23"
      ]
     },
     "execution_count": 21,
     "metadata": {},
     "output_type": "execute_result"
    }
   ],
   "source": [
    "Klist[np.argmin(BIClist)]"
   ]
  },
  {
   "cell_type": "code",
   "execution_count": 22,
   "id": "9c765fec-e033-4b5e-aa9b-2e391df3b920",
   "metadata": {},
   "outputs": [
    {
     "data": {
      "image/png": "[encoded data removed]",
      "text/plain": [
       "<Figure size 640x480 with 1 Axes>"
      ]
     },
     "metadata": {},
     "output_type": "display_data"
    }
   ],
   "source": [
    "plt.xlabel(\"K\")\n",
    "plt.ylabel(\"BIC\")\n",
    "plt.plot(Klist, BIClist, 'o', c='b')\n",
    "plt.show()"
   ]
  },
  {
   "cell_type": "code",
   "execution_count": null,
   "id": "87121638-8792-4005-ae6c-8902bf1596db",
   "metadata": {},
   "outputs": [],
   "source": []
  }
 ],
 "metadata": {
  "kernelspec": {
   "display_name": "Python 3 (ipykernel)",
   "language": "python",
   "name": "python3"
  },
  "language_info": {
   "codemirror_mode": {
    "name": "ipython",
    "version": 3
   },
   "file_extension": ".py",
   "mimetype": "text/x-python",
   "name": "python",
   "nbconvert_exporter": "python",
   "pygments_lexer": "ipython3",
   "version": "3.8.10"
  }
 },
 "nbformat": 4,
 "nbformat_minor": 5
}
