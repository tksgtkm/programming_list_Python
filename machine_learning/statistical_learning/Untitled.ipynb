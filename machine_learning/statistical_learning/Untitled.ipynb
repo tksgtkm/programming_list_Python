{
 "cells": [
  {
   "cell_type": "code",
   "execution_count": 1,
   "id": "d801983b-990e-4de0-8035-0c5f25655d13",
   "metadata": {},
   "outputs": [],
   "source": [
    "import jax.numpy as jnp\n",
    "from scipy import stats"
   ]
  },
  {
   "cell_type": "code",
   "execution_count": 7,
   "id": "97f5d084-599f-426a-a9cf-f1a4f3e2f74a",
   "metadata": {},
   "outputs": [],
   "source": [
    "from jax import random\n",
    "\n",
    "key = random.PRNGKey(42)\n",
    "dat = random.normal(key=key, shape=(50,), dtype=jnp.float32) + 1.1"
   ]
  },
  {
   "cell_type": "code",
   "execution_count": 8,
   "id": "d8809cdc-b398-4a86-9914-c6207d89ce8b",
   "metadata": {},
   "outputs": [
    {
     "data": {
      "text/plain": [
       "0.7318004409444036"
      ]
     },
     "execution_count": 8,
     "metadata": {},
     "output_type": "execute_result"
    }
   ],
   "source": [
    "Z, pval = stats.ttest_1samp(dat, 1)\n",
    "Z"
   ]
  },
  {
   "cell_type": "code",
   "execution_count": 9,
   "id": "09d743d5-68e1-45b6-ab2c-3f30b88548ce",
   "metadata": {},
   "outputs": [
    {
     "data": {
      "text/plain": [
       "0.4677760688162135"
      ]
     },
     "execution_count": 9,
     "metadata": {},
     "output_type": "execute_result"
    }
   ],
   "source": [
    "pval"
   ]
  },
  {
   "cell_type": "code",
   "execution_count": 10,
   "id": "aa59702e-850e-45b2-9d3f-4ef883a55e4c",
   "metadata": {},
   "outputs": [],
   "source": [
    "dat = random.normal(key=key, shape=(200,), dtype=jnp.float32) + 1.1"
   ]
  },
  {
   "cell_type": "code",
   "execution_count": 11,
   "id": "ba4c45e3-d6e2-453c-8265-ae6986edb811",
   "metadata": {},
   "outputs": [
    {
     "data": {
      "text/plain": [
       "0.0004224626708511995"
      ]
     },
     "execution_count": 11,
     "metadata": {},
     "output_type": "execute_result"
    }
   ],
   "source": [
    "Z, pval = stats.ttest_1samp(dat, 1)\n",
    "pval"
   ]
  },
  {
   "cell_type": "code",
   "execution_count": 13,
   "id": "24811e8e-8949-47bf-a8cf-2d860007c981",
   "metadata": {},
   "outputs": [
    {
     "data": {
      "text/plain": [
       "0.03180774186006082"
      ]
     },
     "execution_count": 13,
     "metadata": {},
     "output_type": "execute_result"
    }
   ],
   "source": [
    "dat = random.normal(key=key, shape=(500,), dtype=jnp.float32) + 1.1\n",
    "Z, pval = stats.ttest_1samp(dat, 1)\n",
    "pval"
   ]
  },
  {
   "cell_type": "code",
   "execution_count": 14,
   "id": "a34a6ce4-a796-4205-9921-f5ac368c8bc2",
   "metadata": {},
   "outputs": [
    {
     "data": {
      "text/plain": [
       "0.01590387093003041"
      ]
     },
     "execution_count": 14,
     "metadata": {},
     "output_type": "execute_result"
    }
   ],
   "source": [
    "pval/2"
   ]
  },
  {
   "cell_type": "code",
   "execution_count": null,
   "id": "6d09c9ee-25aa-4c62-aa80-f64d53dba9bf",
   "metadata": {},
   "outputs": [],
   "source": []
  }
 ],
 "metadata": {
  "kernelspec": {
   "display_name": "Python 3 (ipykernel)",
   "language": "python",
   "name": "python3"
  },
  "language_info": {
   "codemirror_mode": {
    "name": "ipython",
    "version": 3
   },
   "file_extension": ".py",
   "mimetype": "text/x-python",
   "name": "python",
   "nbconvert_exporter": "python",
   "pygments_lexer": "ipython3",
   "version": "3.8.10"
  }
 },
 "nbformat": 4,
 "nbformat_minor": 5
}
