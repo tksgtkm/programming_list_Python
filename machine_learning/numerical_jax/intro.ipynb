{
 "cells": [
  {
   "cell_type": "code",
   "execution_count": 1,
   "id": "fafcec3d-0c2d-4433-b2ba-13d82c274cad",
   "metadata": {},
   "outputs": [],
   "source": [
    "import jax\n",
    "import jax.numpy as jnp\n",
    "\n",
    "import numpy as np"
   ]
  },
  {
   "cell_type": "code",
   "execution_count": 3,
   "id": "a00f099a-f5e1-43cc-9e88-c0b48c1135da",
   "metadata": {},
   "outputs": [
    {
     "name": "stderr",
     "output_type": "stream",
     "text": [
      "No GPU/TPU found, falling back to CPU. (Set TF_CPP_MIN_LOG_LEVEL=0 and rerun for more info.)\n"
     ]
    },
    {
     "data": {
      "text/plain": [
       "(array([0, 1, 2, 3], dtype=int32), Array([0, 1, 2, 3], dtype=int32))"
      ]
     },
     "execution_count": 3,
     "metadata": {},
     "output_type": "execute_result"
    }
   ],
   "source": [
    "L = [0, 1, 2, 3]\n",
    "x_np = np.array(L, dtype=np.int32)\n",
    "x_jnp = jnp.array(L, dtype=jnp.int32)\n",
    "\n",
    "x_np, x_jnp"
   ]
  },
  {
   "cell_type": "code",
   "execution_count": 4,
   "id": "596c3fb2-230a-4925-acd5-a0dba5eef0bf",
   "metadata": {},
   "outputs": [
    {
     "data": {
      "text/plain": [
       "(Array([0, 2, 4, 6], dtype=int32),\n",
       " Array([1, 2, 3, 4], dtype=int32),\n",
       " Array([ 1,  4,  7, 10], dtype=int32))"
      ]
     },
     "execution_count": 4,
     "metadata": {},
     "output_type": "execute_result"
    }
   ],
   "source": [
    "x1 = x_jnp*2\n",
    "x2 = x_jnp+1\n",
    "x3 = x1 + x2\n",
    "\n",
    "x1, x2, x3"
   ]
  },
  {
   "cell_type": "code",
   "execution_count": 5,
   "id": "482a914c-3391-4b5e-80ed-70f61068e6e7",
   "metadata": {},
   "outputs": [
    {
     "data": {
      "text/plain": [
       "Array(40, dtype=int32)"
      ]
     },
     "execution_count": 5,
     "metadata": {},
     "output_type": "execute_result"
    }
   ],
   "source": [
    "jnp.dot(x1, x2)"
   ]
  },
  {
   "cell_type": "code",
   "execution_count": 6,
   "id": "518c6341-415d-4cc7-bef8-6f6045e8b847",
   "metadata": {},
   "outputs": [
    {
     "data": {
      "text/plain": [
       "Array([[ 0,  0,  0,  0],\n",
       "       [ 2,  4,  6,  8],\n",
       "       [ 4,  8, 12, 16],\n",
       "       [ 6, 12, 18, 24]], dtype=int32)"
      ]
     },
     "execution_count": 6,
     "metadata": {},
     "output_type": "execute_result"
    }
   ],
   "source": [
    "jnp.outer(x1, x2)"
   ]
  },
  {
   "cell_type": "code",
   "execution_count": 7,
   "id": "ff787745-daeb-4893-90d3-987768934cd6",
   "metadata": {},
   "outputs": [],
   "source": [
    "data = jnp.array([[1.5, -0.1, 3], [0, -3, 6.5]])"
   ]
  },
  {
   "cell_type": "code",
   "execution_count": 8,
   "id": "e854e266-2607-4e14-be2c-8c3b8fe02041",
   "metadata": {},
   "outputs": [
    {
     "data": {
      "text/plain": [
       "Array([[ 1.5, -0.1,  3. ],\n",
       "       [ 0. , -3. ,  6.5]], dtype=float32)"
      ]
     },
     "execution_count": 8,
     "metadata": {},
     "output_type": "execute_result"
    }
   ],
   "source": [
    "data"
   ]
  },
  {
   "cell_type": "code",
   "execution_count": 9,
   "id": "114ca9cd-3c6e-44cd-a0b5-32d2d0260091",
   "metadata": {},
   "outputs": [
    {
     "data": {
      "text/plain": [
       "Array([[ 15.,  -1.,  30.],\n",
       "       [  0., -30.,  65.]], dtype=float32)"
      ]
     },
     "execution_count": 9,
     "metadata": {},
     "output_type": "execute_result"
    }
   ],
   "source": [
    "data * 10"
   ]
  },
  {
   "cell_type": "code",
   "execution_count": 10,
   "id": "86a13d3b-b73a-4c6d-82a0-94a8c3a46c44",
   "metadata": {},
   "outputs": [
    {
     "data": {
      "text/plain": [
       "Array([[ 3. , -0.2,  6. ],\n",
       "       [ 0. , -6. , 13. ]], dtype=float32)"
      ]
     },
     "execution_count": 10,
     "metadata": {},
     "output_type": "execute_result"
    }
   ],
   "source": [
    "data + data"
   ]
  },
  {
   "cell_type": "code",
   "execution_count": 11,
   "id": "812e65c0-6e4a-4cc6-aa91-84c7dfe0b6e4",
   "metadata": {},
   "outputs": [
    {
     "data": {
      "text/plain": [
       "(2, 3)"
      ]
     },
     "execution_count": 11,
     "metadata": {},
     "output_type": "execute_result"
    }
   ],
   "source": [
    "data.shape"
   ]
  },
  {
   "cell_type": "code",
   "execution_count": 13,
   "id": "8b19f61e-cbcf-4257-82b4-cd1cd7eaa7f0",
   "metadata": {},
   "outputs": [
    {
     "data": {
      "text/plain": [
       "dtype('float32')"
      ]
     },
     "execution_count": 13,
     "metadata": {},
     "output_type": "execute_result"
    }
   ],
   "source": [
    "data.dtype"
   ]
  },
  {
   "cell_type": "code",
   "execution_count": 14,
   "id": "2a8cc2cd-1777-48f0-b733-95224d0d6e0b",
   "metadata": {},
   "outputs": [],
   "source": [
    "data1 = [6, 7.5, 8, 0, 1]"
   ]
  },
  {
   "cell_type": "code",
   "execution_count": 15,
   "id": "268a891b-8027-41b8-bee5-c0a21df2efbd",
   "metadata": {},
   "outputs": [],
   "source": [
    "arr1 = jnp.array(data1)"
   ]
  },
  {
   "cell_type": "code",
   "execution_count": 16,
   "id": "ceccd57c-51dc-4c11-bdd0-250f6718c5ca",
   "metadata": {},
   "outputs": [
    {
     "data": {
      "text/plain": [
       "Array([6. , 7.5, 8. , 0. , 1. ], dtype=float32)"
      ]
     },
     "execution_count": 16,
     "metadata": {},
     "output_type": "execute_result"
    }
   ],
   "source": [
    "arr1"
   ]
  },
  {
   "cell_type": "code",
   "execution_count": 17,
   "id": "a4f5e080-4f52-4699-a7f3-54ec9cf8554f",
   "metadata": {},
   "outputs": [],
   "source": [
    "data2 = [[1, 2, 3, 4], [5, 6, 7, 8]]"
   ]
  },
  {
   "cell_type": "code",
   "execution_count": 18,
   "id": "c4ebdb1f-2658-4dfe-bb9d-c0c5b8a3cd1c",
   "metadata": {},
   "outputs": [],
   "source": [
    "arr2 = jnp.array(data2)"
   ]
  },
  {
   "cell_type": "code",
   "execution_count": 19,
   "id": "99533d56-9433-4688-bda5-cf29a8fc1886",
   "metadata": {},
   "outputs": [
    {
     "data": {
      "text/plain": [
       "Array([[1, 2, 3, 4],\n",
       "       [5, 6, 7, 8]], dtype=int32)"
      ]
     },
     "execution_count": 19,
     "metadata": {},
     "output_type": "execute_result"
    }
   ],
   "source": [
    "arr2"
   ]
  },
  {
   "cell_type": "code",
   "execution_count": 20,
   "id": "da5380f7-cc43-4e8a-8055-3571460352ec",
   "metadata": {},
   "outputs": [
    {
     "data": {
      "text/plain": [
       "2"
      ]
     },
     "execution_count": 20,
     "metadata": {},
     "output_type": "execute_result"
    }
   ],
   "source": [
    "arr2.ndim"
   ]
  },
  {
   "cell_type": "code",
   "execution_count": 21,
   "id": "a7f8e24f-5c61-4d3e-ae12-d934225cea5b",
   "metadata": {},
   "outputs": [
    {
     "data": {
      "text/plain": [
       "(2, 4)"
      ]
     },
     "execution_count": 21,
     "metadata": {},
     "output_type": "execute_result"
    }
   ],
   "source": [
    "arr2.shape"
   ]
  },
  {
   "cell_type": "code",
   "execution_count": 22,
   "id": "3b17b7cf-6c06-492d-8c38-eaf69178bee7",
   "metadata": {},
   "outputs": [
    {
     "data": {
      "text/plain": [
       "Array([0., 0., 0., 0., 0., 0., 0., 0., 0., 0.], dtype=float32)"
      ]
     },
     "execution_count": 22,
     "metadata": {},
     "output_type": "execute_result"
    }
   ],
   "source": [
    "jnp.zeros(10)"
   ]
  },
  {
   "cell_type": "code",
   "execution_count": 23,
   "id": "006da627-63bf-4bc5-9b6f-e01b2c46ca10",
   "metadata": {},
   "outputs": [
    {
     "data": {
      "text/plain": [
       "Array([[0., 0., 0., 0., 0., 0.],\n",
       "       [0., 0., 0., 0., 0., 0.],\n",
       "       [0., 0., 0., 0., 0., 0.]], dtype=float32)"
      ]
     },
     "execution_count": 23,
     "metadata": {},
     "output_type": "execute_result"
    }
   ],
   "source": [
    "jnp.zeros((3, 6))"
   ]
  },
  {
   "cell_type": "code",
   "execution_count": 24,
   "id": "15f3e682-da62-4611-b5da-714fa37dc29c",
   "metadata": {},
   "outputs": [
    {
     "data": {
      "text/plain": [
       "Array([[[0., 0.],\n",
       "        [0., 0.],\n",
       "        [0., 0.]],\n",
       "\n",
       "       [[0., 0.],\n",
       "        [0., 0.],\n",
       "        [0., 0.]]], dtype=float32)"
      ]
     },
     "execution_count": 24,
     "metadata": {},
     "output_type": "execute_result"
    }
   ],
   "source": [
    "jnp.empty((2, 3, 2))"
   ]
  },
  {
   "cell_type": "code",
   "execution_count": 25,
   "id": "1d418b7f-a1c3-4772-87a2-0524cccbfec1",
   "metadata": {},
   "outputs": [],
   "source": [
    "arr = jnp.arange(10)"
   ]
  },
  {
   "cell_type": "code",
   "execution_count": 26,
   "id": "12a20f90-60d8-4205-b1bf-a946268d2897",
   "metadata": {},
   "outputs": [
    {
     "data": {
      "text/plain": [
       "Array([0, 1, 2, 3, 4, 5, 6, 7, 8, 9], dtype=int32)"
      ]
     },
     "execution_count": 26,
     "metadata": {},
     "output_type": "execute_result"
    }
   ],
   "source": [
    "arr"
   ]
  },
  {
   "cell_type": "code",
   "execution_count": 27,
   "id": "5f2669cd-6553-4412-84f0-d73cb88bef6a",
   "metadata": {},
   "outputs": [
    {
     "data": {
      "text/plain": [
       "Array([5, 6, 7], dtype=int32)"
      ]
     },
     "execution_count": 27,
     "metadata": {},
     "output_type": "execute_result"
    }
   ],
   "source": [
    "arr[5:8]"
   ]
  },
  {
   "cell_type": "code",
   "execution_count": 28,
   "id": "309c22fc-3ded-49de-8ab6-c101555420dd",
   "metadata": {},
   "outputs": [],
   "source": [
    "arr_slice = arr[5:8]"
   ]
  },
  {
   "cell_type": "code",
   "execution_count": 29,
   "id": "f95dc3a0-4769-44ea-82cc-94c67de21b85",
   "metadata": {},
   "outputs": [
    {
     "data": {
      "text/plain": [
       "Array([5, 6, 7], dtype=int32)"
      ]
     },
     "execution_count": 29,
     "metadata": {},
     "output_type": "execute_result"
    }
   ],
   "source": [
    "arr_slice"
   ]
  },
  {
   "cell_type": "code",
   "execution_count": 31,
   "id": "b0aa405d-2baa-45c3-80d7-6ec677fdcf32",
   "metadata": {},
   "outputs": [],
   "source": [
    "arr_slice = arr_slice.at[1].set(12345)"
   ]
  },
  {
   "cell_type": "code",
   "execution_count": 32,
   "id": "97fb7844-0f84-41db-bcff-4960793585bf",
   "metadata": {},
   "outputs": [
    {
     "data": {
      "text/plain": [
       "Array([    5, 12345,     7], dtype=int32)"
      ]
     },
     "execution_count": 32,
     "metadata": {},
     "output_type": "execute_result"
    }
   ],
   "source": [
    "arr_slice"
   ]
  },
  {
   "cell_type": "code",
   "execution_count": 33,
   "id": "6e74c3d1-655e-4ebe-b166-a1ead61147c1",
   "metadata": {},
   "outputs": [
    {
     "data": {
      "text/plain": [
       "Array([0, 1, 2, 3, 4, 5, 6, 7, 8, 9], dtype=int32)"
      ]
     },
     "execution_count": 33,
     "metadata": {},
     "output_type": "execute_result"
    }
   ],
   "source": [
    "arr"
   ]
  },
  {
   "cell_type": "code",
   "execution_count": 34,
   "id": "b354fac3-21e1-4327-8aae-f66c98c053a0",
   "metadata": {},
   "outputs": [],
   "source": [
    "arr_slice = arr_slice.at[:].set(64)"
   ]
  },
  {
   "cell_type": "code",
   "execution_count": 35,
   "id": "681c09ce-6cb2-4fb3-a374-43b2fe1cd7df",
   "metadata": {},
   "outputs": [
    {
     "data": {
      "text/plain": [
       "Array([64, 64, 64], dtype=int32)"
      ]
     },
     "execution_count": 35,
     "metadata": {},
     "output_type": "execute_result"
    }
   ],
   "source": [
    "arr_slice"
   ]
  },
  {
   "cell_type": "code",
   "execution_count": 36,
   "id": "7e76dd58-2146-4c90-be9e-74e933944112",
   "metadata": {},
   "outputs": [],
   "source": [
    "arr2d = jnp.array([[1, 2, 3], [4, 5, 6], [7, 8, 9]])"
   ]
  },
  {
   "cell_type": "code",
   "execution_count": 37,
   "id": "7c1558c8-fc0a-43d0-bfc2-6f501524c11e",
   "metadata": {},
   "outputs": [
    {
     "data": {
      "text/plain": [
       "Array([[1, 2, 3],\n",
       "       [4, 5, 6],\n",
       "       [7, 8, 9]], dtype=int32)"
      ]
     },
     "execution_count": 37,
     "metadata": {},
     "output_type": "execute_result"
    }
   ],
   "source": [
    "arr2d"
   ]
  },
  {
   "cell_type": "code",
   "execution_count": 38,
   "id": "a08a17e3-401e-4064-a2ed-f962b4eff140",
   "metadata": {},
   "outputs": [
    {
     "data": {
      "text/plain": [
       "Array([7, 8, 9], dtype=int32)"
      ]
     },
     "execution_count": 38,
     "metadata": {},
     "output_type": "execute_result"
    }
   ],
   "source": [
    "arr2d[2]"
   ]
  },
  {
   "cell_type": "code",
   "execution_count": 39,
   "id": "295a2c99-1240-49ac-a18c-8d79155acd48",
   "metadata": {},
   "outputs": [
    {
     "data": {
      "text/plain": [
       "Array(3, dtype=int32)"
      ]
     },
     "execution_count": 39,
     "metadata": {},
     "output_type": "execute_result"
    }
   ],
   "source": [
    "arr2d[0][2]"
   ]
  },
  {
   "cell_type": "code",
   "execution_count": 40,
   "id": "1367d74d-1f9e-45ff-9750-7be846747aca",
   "metadata": {},
   "outputs": [
    {
     "data": {
      "text/plain": [
       "Array(3, dtype=int32)"
      ]
     },
     "execution_count": 40,
     "metadata": {},
     "output_type": "execute_result"
    }
   ],
   "source": [
    "arr2d[0, 2]"
   ]
  },
  {
   "cell_type": "code",
   "execution_count": 41,
   "id": "d31748a3-2663-4c4b-94d3-2e2f6ef5829e",
   "metadata": {},
   "outputs": [],
   "source": [
    "arr3d = jnp.array([[[1, 2, 3], [4, 5, 6]], [[7, 8, 9], [10, 11, 12]]])"
   ]
  },
  {
   "cell_type": "code",
   "execution_count": 42,
   "id": "bde8bd1f-900d-4090-a1be-f99fdb159644",
   "metadata": {},
   "outputs": [
    {
     "data": {
      "text/plain": [
       "Array([[[ 1,  2,  3],\n",
       "        [ 4,  5,  6]],\n",
       "\n",
       "       [[ 7,  8,  9],\n",
       "        [10, 11, 12]]], dtype=int32)"
      ]
     },
     "execution_count": 42,
     "metadata": {},
     "output_type": "execute_result"
    }
   ],
   "source": [
    "arr3d"
   ]
  },
  {
   "cell_type": "code",
   "execution_count": 43,
   "id": "9110e7ce-059c-452c-99a1-674aa85b944b",
   "metadata": {},
   "outputs": [],
   "source": [
    "lower_dim_slice = arr2d[1, 2:]"
   ]
  },
  {
   "cell_type": "code",
   "execution_count": 44,
   "id": "be1445de-6f38-49e9-abf1-45f53ab608d3",
   "metadata": {},
   "outputs": [
    {
     "data": {
      "text/plain": [
       "Array([6], dtype=int32)"
      ]
     },
     "execution_count": 44,
     "metadata": {},
     "output_type": "execute_result"
    }
   ],
   "source": [
    "lower_dim_slice"
   ]
  },
  {
   "cell_type": "code",
   "execution_count": 46,
   "id": "92ca2095-c39a-4d00-8291-56608d56828e",
   "metadata": {},
   "outputs": [],
   "source": [
    "arr2d = arr2d.at[:2, 1:].set(0)"
   ]
  },
  {
   "cell_type": "code",
   "execution_count": 47,
   "id": "cc8265c3-12bb-466b-82e8-305b90c2cf19",
   "metadata": {},
   "outputs": [
    {
     "data": {
      "text/plain": [
       "Array([[1, 0, 0],\n",
       "       [4, 0, 0],\n",
       "       [7, 8, 9]], dtype=int32)"
      ]
     },
     "execution_count": 47,
     "metadata": {},
     "output_type": "execute_result"
    }
   ],
   "source": [
    "arr2d"
   ]
  },
  {
   "cell_type": "code",
   "execution_count": 48,
   "id": "5e121e76-8f84-4fbc-9102-9e3c1e9360fc",
   "metadata": {},
   "outputs": [],
   "source": [
    "points = jnp.arange(-5, 5, 0.01)"
   ]
  },
  {
   "cell_type": "code",
   "execution_count": 49,
   "id": "b14fcba1-241a-487e-b931-81b630b29841",
   "metadata": {},
   "outputs": [],
   "source": [
    "xs, ys = jnp.meshgrid(points, points)"
   ]
  },
  {
   "cell_type": "code",
   "execution_count": 50,
   "id": "3bbbe42d-d10e-4d08-934a-c5b275c9deff",
   "metadata": {},
   "outputs": [
    {
     "data": {
      "text/plain": [
       "Array([[-5.       , -5.       , -5.       , ..., -5.       , -5.       ,\n",
       "        -5.       ],\n",
       "       [-4.99     , -4.99     , -4.99     , ..., -4.99     , -4.99     ,\n",
       "        -4.99     ],\n",
       "       [-4.9799995, -4.9799995, -4.9799995, ..., -4.9799995, -4.9799995,\n",
       "        -4.9799995],\n",
       "       ...,\n",
       "       [ 4.970228 ,  4.970228 ,  4.970228 , ...,  4.970228 ,  4.970228 ,\n",
       "         4.970228 ],\n",
       "       [ 4.9802284,  4.9802284,  4.9802284, ...,  4.9802284,  4.9802284,\n",
       "         4.9802284],\n",
       "       [ 4.9902287,  4.9902287,  4.9902287, ...,  4.9902287,  4.9902287,\n",
       "         4.9902287]], dtype=float32)"
      ]
     },
     "execution_count": 50,
     "metadata": {},
     "output_type": "execute_result"
    }
   ],
   "source": [
    "ys"
   ]
  },
  {
   "cell_type": "code",
   "execution_count": 51,
   "id": "1acd339c-faeb-47b7-a929-35527c5afabb",
   "metadata": {},
   "outputs": [],
   "source": [
    "z = jnp.sqrt(xs ** 2 + ys ** 2)"
   ]
  },
  {
   "cell_type": "code",
   "execution_count": 52,
   "id": "dc4ec6b9-d49f-4d13-9f90-9abd9f0044b4",
   "metadata": {},
   "outputs": [
    {
     "data": {
      "text/plain": [
       "Array([[7.071068 , 7.064    , 7.0569396, ..., 7.0500474, 7.057101 ,\n",
       "        7.064162 ],\n",
       "       [7.064    , 7.0569253, 7.0498576, ..., 7.0429583, 7.0500193,\n",
       "        7.057087 ],\n",
       "       [7.0569396, 7.0498576, 7.042783 , ..., 7.0358768, 7.042945 ,\n",
       "        7.0500197],\n",
       "       ...,\n",
       "       [7.0500474, 7.0429583, 7.0358768, ..., 7.028964 , 7.036039 ,\n",
       "        7.043121 ],\n",
       "       [7.057101 , 7.0500193, 7.042945 , ..., 7.036039 , 7.0431066,\n",
       "        7.0501814],\n",
       "       [7.064162 , 7.057087 , 7.0500197, ..., 7.043121 , 7.0501814,\n",
       "        7.057249 ]], dtype=float32)"
      ]
     },
     "execution_count": 52,
     "metadata": {},
     "output_type": "execute_result"
    }
   ],
   "source": [
    "z"
   ]
  },
  {
   "cell_type": "code",
   "execution_count": 53,
   "id": "1d60b8e1-8190-42f7-b9ab-3f64c542241a",
   "metadata": {},
   "outputs": [],
   "source": [
    "import matplotlib.pyplot as plt"
   ]
  },
  {
   "cell_type": "code",
   "execution_count": 54,
   "id": "9ef4eae5-bb4a-44fc-af16-aad6bc077225",
   "metadata": {},
   "outputs": [
    {
     "data": {
      "text/plain": [
       "<matplotlib.image.AxesImage at 0x7fc7426568e0>"
      ]
     },
     "execution_count": 54,
     "metadata": {},
     "output_type": "execute_result"
    },
    {
     "data": {
      "image/png": "[encoded data removed]",
      "text/plain": [
       "<Figure size 432x288 with 1 Axes>"
      ]
     },
     "metadata": {
      "needs_background": "light"
     },
     "output_type": "display_data"
    }
   ],
   "source": [
    "plt.imshow(z, cmap=plt.cm.gray, extent=[-5, 5, -5, 5])"
   ]
  },
  {
   "cell_type": "code",
   "execution_count": 55,
   "id": "2b8a4845-d343-4e91-9346-35e3044f9b47",
   "metadata": {},
   "outputs": [],
   "source": [
    "xarr = jnp.array([1.1, 1.2, 1.3, 1.4, 1.5])\n",
    "yarr = jnp.array([2.1, 2.2, 2.3, 2.4, 2.5])\n",
    "cond = jnp.array([True, False, True, True, False])"
   ]
  },
  {
   "cell_type": "code",
   "execution_count": 56,
   "id": "56f76179-4369-4b24-82e7-5ad44b679739",
   "metadata": {},
   "outputs": [],
   "source": [
    "result = [(x if x else y) for x, y, c in zip(xarr, yarr, cond)]"
   ]
  },
  {
   "cell_type": "code",
   "execution_count": 57,
   "id": "3faadd5d-7684-4d45-8903-07696ca8ca89",
   "metadata": {},
   "outputs": [
    {
     "data": {
      "text/plain": [
       "[Array(1.1, dtype=float32),\n",
       " Array(1.2, dtype=float32),\n",
       " Array(1.3, dtype=float32),\n",
       " Array(1.4, dtype=float32),\n",
       " Array(1.5, dtype=float32)]"
      ]
     },
     "execution_count": 57,
     "metadata": {},
     "output_type": "execute_result"
    }
   ],
   "source": [
    "result"
   ]
  },
  {
   "cell_type": "code",
   "execution_count": 58,
   "id": "41533c55-1e95-4098-baca-61f44db9950c",
   "metadata": {},
   "outputs": [],
   "source": [
    "result = jnp.where(cond, xarr, yarr)"
   ]
  },
  {
   "cell_type": "code",
   "execution_count": 59,
   "id": "54685ce0-0c06-409f-87f2-5439a133d973",
   "metadata": {},
   "outputs": [
    {
     "data": {
      "text/plain": [
       "Array([1.1, 2.2, 1.3, 1.4, 2.5], dtype=float32)"
      ]
     },
     "execution_count": 59,
     "metadata": {},
     "output_type": "execute_result"
    }
   ],
   "source": [
    "result"
   ]
  },
  {
   "cell_type": "code",
   "execution_count": 63,
   "id": "0924e7f8-de9a-43fb-a389-1b276fdda159",
   "metadata": {},
   "outputs": [],
   "source": [
    "from jax import random\n",
    "key = random.PRNGKey(42)"
   ]
  },
  {
   "cell_type": "code",
   "execution_count": 66,
   "id": "c25be115-f41b-40a5-8b55-e7ae8673934c",
   "metadata": {},
   "outputs": [],
   "source": [
    "rng = random.normal(key=key, shape=(2, 3))"
   ]
  },
  {
   "cell_type": "code",
   "execution_count": 67,
   "id": "92a4a090-1421-4d70-a5c2-e1487bbc6509",
   "metadata": {},
   "outputs": [
    {
     "data": {
      "text/plain": [
       "Array([[ 0.6122652 ,  1.1225883 ,  1.1373317 ],\n",
       "       [-0.8127325 , -0.890405  ,  0.12623145]], dtype=float32)"
      ]
     },
     "execution_count": 67,
     "metadata": {},
     "output_type": "execute_result"
    }
   ],
   "source": [
    "rng"
   ]
  },
  {
   "cell_type": "code",
   "execution_count": 68,
   "id": "80c89637-bbcd-4af1-b3cf-e2aa492e65f9",
   "metadata": {},
   "outputs": [],
   "source": [
    "arr = random.normal(key=key, shape=(4, 4))"
   ]
  },
  {
   "cell_type": "code",
   "execution_count": 69,
   "id": "6079390d-3a57-4dcc-8a8d-f6280567c8e6",
   "metadata": {},
   "outputs": [
    {
     "data": {
      "text/plain": [
       "Array([[-0.716899  , -0.20865498, -2.5713923 ,  1.0337092 ],\n",
       "       [-1.4035789 ,  1.3873734 , -0.8396519 , -1.7569369 ],\n",
       "       [ 0.1421263 , -1.7631724 , -1.6755073 ,  0.31390068],\n",
       "       [ 0.5912831 ,  0.5325395 , -0.9133108 , -1.0778497 ]],      dtype=float32)"
      ]
     },
     "execution_count": 69,
     "metadata": {},
     "output_type": "execute_result"
    }
   ],
   "source": [
    "arr"
   ]
  },
  {
   "cell_type": "code",
   "execution_count": 70,
   "id": "0c767d84-6a1b-404e-bebf-fc53bfaa773b",
   "metadata": {},
   "outputs": [
    {
     "data": {
      "text/plain": [
       "Array([[False, False, False,  True],\n",
       "       [False,  True, False, False],\n",
       "       [ True, False, False,  True],\n",
       "       [ True,  True, False, False]], dtype=bool)"
      ]
     },
     "execution_count": 70,
     "metadata": {},
     "output_type": "execute_result"
    }
   ],
   "source": [
    "arr > 0"
   ]
  },
  {
   "cell_type": "code",
   "execution_count": 71,
   "id": "814b788b-c3c1-487b-8f9c-0ec4cc4a989e",
   "metadata": {},
   "outputs": [
    {
     "data": {
      "text/plain": [
       "Array([[ 2,  2,  2, -2],\n",
       "       [ 2, -2,  2,  2],\n",
       "       [-2,  2,  2, -2],\n",
       "       [-2, -2,  2,  2]], dtype=int32, weak_type=True)"
      ]
     },
     "execution_count": 71,
     "metadata": {},
     "output_type": "execute_result"
    }
   ],
   "source": [
    "jnp.where(arr < 0, 2, -2)"
   ]
  },
  {
   "cell_type": "code",
   "execution_count": 72,
   "id": "b9c58dbe-9b3d-4a62-b853-c77db54a0ec6",
   "metadata": {},
   "outputs": [
    {
     "data": {
      "text/plain": [
       "Array(-0.55787647, dtype=float32)"
      ]
     },
     "execution_count": 72,
     "metadata": {},
     "output_type": "execute_result"
    }
   ],
   "source": [
    "arr.mean()"
   ]
  },
  {
   "cell_type": "code",
   "execution_count": 73,
   "id": "c3c880ed-3422-409f-b1aa-f540a88fc525",
   "metadata": {},
   "outputs": [
    {
     "data": {
      "text/plain": [
       "Array(-0.55787647, dtype=float32)"
      ]
     },
     "execution_count": 73,
     "metadata": {},
     "output_type": "execute_result"
    }
   ],
   "source": [
    "jnp.mean(arr)"
   ]
  },
  {
   "cell_type": "code",
   "execution_count": 74,
   "id": "4b26d9de-9de9-43c2-bb08-48165e68b762",
   "metadata": {},
   "outputs": [],
   "source": [
    "x = jnp.array([[1., 2., 3.], [4., 5., 6.]])\n",
    "y = jnp.array([[6., 23.], [-1, 7], [8, 9]])"
   ]
  },
  {
   "cell_type": "code",
   "execution_count": 75,
   "id": "4a32d3e3-e923-44d5-99e9-588b7ba2d768",
   "metadata": {},
   "outputs": [
    {
     "data": {
      "text/plain": [
       "Array([[1., 2., 3.],\n",
       "       [4., 5., 6.]], dtype=float32)"
      ]
     },
     "execution_count": 75,
     "metadata": {},
     "output_type": "execute_result"
    }
   ],
   "source": [
    "x"
   ]
  },
  {
   "cell_type": "code",
   "execution_count": 76,
   "id": "4b09aea8-aa4b-4997-8bee-382c09b40a55",
   "metadata": {},
   "outputs": [
    {
     "data": {
      "text/plain": [
       "Array([[ 6., 23.],\n",
       "       [-1.,  7.],\n",
       "       [ 8.,  9.]], dtype=float32)"
      ]
     },
     "execution_count": 76,
     "metadata": {},
     "output_type": "execute_result"
    }
   ],
   "source": [
    "y"
   ]
  },
  {
   "cell_type": "code",
   "execution_count": 77,
   "id": "b447290d-d234-41d8-ac2a-ba49db9b1330",
   "metadata": {},
   "outputs": [
    {
     "data": {
      "text/plain": [
       "Array([[ 28.,  64.],\n",
       "       [ 67., 181.]], dtype=float32)"
      ]
     },
     "execution_count": 77,
     "metadata": {},
     "output_type": "execute_result"
    }
   ],
   "source": [
    "x.dot(y)"
   ]
  },
  {
   "cell_type": "code",
   "execution_count": 78,
   "id": "6a088a2e-df49-4ad5-bb0f-a82e18b76a65",
   "metadata": {},
   "outputs": [
    {
     "data": {
      "text/plain": [
       "Array([[ 28.,  64.],\n",
       "       [ 67., 181.]], dtype=float32)"
      ]
     },
     "execution_count": 78,
     "metadata": {},
     "output_type": "execute_result"
    }
   ],
   "source": [
    "jnp.dot(x, y)"
   ]
  },
  {
   "cell_type": "code",
   "execution_count": 79,
   "id": "238f7534-a25c-418f-b47a-18003a1c02fc",
   "metadata": {},
   "outputs": [
    {
     "data": {
      "text/plain": [
       "Array([ 6., 15.], dtype=float32)"
      ]
     },
     "execution_count": 79,
     "metadata": {},
     "output_type": "execute_result"
    }
   ],
   "source": [
    "x @ jnp.ones(3)"
   ]
  },
  {
   "cell_type": "code",
   "execution_count": 80,
   "id": "b9513552-db07-410e-9ecf-46e3f5ed1ea0",
   "metadata": {},
   "outputs": [],
   "source": [
    "from jax.numpy.linalg import inv, qr"
   ]
  },
  {
   "cell_type": "code",
   "execution_count": 82,
   "id": "b4c3fc14-0865-463a-9eaf-af4f51e881a7",
   "metadata": {},
   "outputs": [],
   "source": [
    "X = random.normal(key=key, shape=(5, 5))"
   ]
  },
  {
   "cell_type": "code",
   "execution_count": 83,
   "id": "bf7ba613-9fd9-4aa6-a535-59152237ffea",
   "metadata": {},
   "outputs": [],
   "source": [
    "mat = X.T @ X"
   ]
  },
  {
   "cell_type": "code",
   "execution_count": 84,
   "id": "154577a4-8d3b-47cf-940f-37d93c0b0560",
   "metadata": {},
   "outputs": [
    {
     "data": {
      "text/plain": [
       "Array([[ 1.0313545, -4.2432714, -2.6346173, -1.1881405,  1.7812926],\n",
       "       [-4.243273 , 21.713385 , 13.112697 ,  6.3955383, -9.210841 ],\n",
       "       [-2.634618 , 13.112694 ,  8.206215 ,  3.76008  , -5.611362 ],\n",
       "       [-1.1881412,  6.3955407,  3.7600822,  2.035356 , -2.732663 ],\n",
       "       [ 1.7812929, -9.210841 , -5.6113625, -2.732662 ,  4.117914 ]],      dtype=float32)"
      ]
     },
     "execution_count": 84,
     "metadata": {},
     "output_type": "execute_result"
    }
   ],
   "source": [
    "inv(mat)"
   ]
  },
  {
   "cell_type": "code",
   "execution_count": 85,
   "id": "ccebc4f3-34ec-485b-992e-00d8fa2cf14d",
   "metadata": {},
   "outputs": [
    {
     "data": {
      "text/plain": [
       "Array([[ 1.0000000e+00, -1.7380717e-06,  1.6973604e-07, -3.4071988e-08,\n",
       "         1.9174990e-08],\n",
       "       [ 9.8474857e-07,  9.9998951e-01,  7.0883652e-07,  2.0599157e-07,\n",
       "         2.7139295e-06],\n",
       "       [ 1.3835597e-07, -3.0491829e-06,  9.9999756e-01,  4.8611673e-07,\n",
       "         1.3951139e-06],\n",
       "       [-3.3043693e-07,  1.2774161e-05,  2.2563554e-06,  1.0000014e+00,\n",
       "        -2.2129593e-06],\n",
       "       [ 4.0590294e-08, -1.6669860e-06, -1.2474757e-06, -7.5278069e-07,\n",
       "         1.0000002e+00]], dtype=float32)"
      ]
     },
     "execution_count": 85,
     "metadata": {},
     "output_type": "execute_result"
    }
   ],
   "source": [
    "mat @ inv(mat)"
   ]
  },
  {
   "cell_type": "code",
   "execution_count": null,
   "id": "b731d6bb-1cef-49d4-9501-73eea42a8289",
   "metadata": {},
   "outputs": [],
   "source": []
  }
 ],
 "metadata": {
  "kernelspec": {
   "display_name": "Python 3",
   "language": "python",
   "name": "python3"
  },
  "language_info": {
   "codemirror_mode": {
    "name": "ipython",
    "version": 3
   },
   "file_extension": ".py",
   "mimetype": "text/x-python",
   "name": "python",
   "nbconvert_exporter": "python",
   "pygments_lexer": "ipython3",
   "version": "3.8.10"
  }
 },
 "nbformat": 4,
 "nbformat_minor": 5
}
