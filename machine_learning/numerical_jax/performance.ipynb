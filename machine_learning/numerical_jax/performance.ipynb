{
 "cells": [
  {
   "cell_type": "code",
   "execution_count": 1,
   "id": "fdc9818f-8931-4636-9ee6-bdc12cbb08b5",
   "metadata": {},
   "outputs": [
    {
     "name": "stderr",
     "output_type": "stream",
     "text": [
      "No GPU/TPU found, falling back to CPU. (Set TF_CPP_MIN_LOG_LEVEL=0 and rerun for more info.)\n"
     ]
    }
   ],
   "source": [
    "import numpy as onp\n",
    "import jax.numpy as np\n",
    "from jax import grad, jit, vmap, value_and_grad, lax\n",
    "from jax import random\n",
    "\n",
    "key = random.PRNGKey(1)"
   ]
  },
  {
   "cell_type": "code",
   "execution_count": 2,
   "id": "ce82008f-8347-403e-bcb8-110ef06184b3",
   "metadata": {},
   "outputs": [],
   "source": [
    "x = random.uniform(key, (1000, 1000))\n",
    "\n",
    "# %time y = onp.dot(x, x)\n",
    "# %time y = np.dot(x, x)\n",
    "# %time y = np.dot(x, x).block_until_ready()\n",
    "# %time y = lax.dot(x, x)\n",
    "# %time y = lax.dot(x, x).block_until_ready()"
   ]
  },
  {
   "cell_type": "code",
   "execution_count": 7,
   "id": "8a4aa54e-1887-40d4-90da-708ac089d963",
   "metadata": {},
   "outputs": [
    {
     "name": "stdout",
     "output_type": "stream",
     "text": [
      "CPU times: user 93.7 ms, sys: 41.7 ms, total: 135 ms\n",
      "Wall time: 38.2 ms\n"
     ]
    }
   ],
   "source": [
    "%time y = onp.dot(x, x)"
   ]
  },
  {
   "cell_type": "code",
   "execution_count": 8,
   "id": "8e8da3a8-a31c-4785-aefe-d64c8be40d16",
   "metadata": {},
   "outputs": [
    {
     "name": "stdout",
     "output_type": "stream",
     "text": [
      "CPU times: user 35.9 ms, sys: 1.09 ms, total: 37 ms\n",
      "Wall time: 6.97 ms\n"
     ]
    }
   ],
   "source": [
    "%time y = np.dot(x, x)"
   ]
  },
  {
   "cell_type": "code",
   "execution_count": 9,
   "id": "c09f4837-c166-4297-858f-774fb7e26d34",
   "metadata": {},
   "outputs": [
    {
     "name": "stdout",
     "output_type": "stream",
     "text": [
      "CPU times: user 61.1 ms, sys: 5.27 ms, total: 66.3 ms\n",
      "Wall time: 9.81 ms\n"
     ]
    }
   ],
   "source": [
    "%time y = np.dot(x, x).block_until_ready()"
   ]
  },
  {
   "cell_type": "code",
   "execution_count": 10,
   "id": "93f8ac50-1de1-420a-98aa-0fd7afea891d",
   "metadata": {},
   "outputs": [
    {
     "name": "stdout",
     "output_type": "stream",
     "text": [
      "CPU times: user 134 ms, sys: 0 ns, total: 134 ms\n",
      "Wall time: 25 ms\n"
     ]
    }
   ],
   "source": [
    "%time y = lax.dot(x, x)"
   ]
  },
  {
   "cell_type": "code",
   "execution_count": 11,
   "id": "a860de2b-9741-4934-9e81-d4dd4f1d00ba",
   "metadata": {},
   "outputs": [],
   "source": [
    "def ReLU(x):\n",
    "    return np.maximum(0, x)\n",
    "\n",
    "jit_ReLU = jit(ReLU)"
   ]
  },
  {
   "cell_type": "code",
   "execution_count": 12,
   "id": "7f1cb3eb-730b-4715-9640-5bce88c37b2b",
   "metadata": {},
   "outputs": [
    {
     "name": "stdout",
     "output_type": "stream",
     "text": [
      "CPU times: user 32.7 ms, sys: 0 ns, total: 32.7 ms\n",
      "Wall time: 33.2 ms\n"
     ]
    }
   ],
   "source": [
    "%time out = ReLU(x).block_until_ready()"
   ]
  },
  {
   "cell_type": "code",
   "execution_count": null,
   "id": "4e0cfe4b-bd4a-45d4-b7f0-c8dce015f30b",
   "metadata": {},
   "outputs": [],
   "source": []
  }
 ],
 "metadata": {
  "kernelspec": {
   "display_name": "Python 3",
   "language": "python",
   "name": "python3"
  },
  "language_info": {
   "codemirror_mode": {
    "name": "ipython",
    "version": 3
   },
   "file_extension": ".py",
   "mimetype": "text/x-python",
   "name": "python",
   "nbconvert_exporter": "python",
   "pygments_lexer": "ipython3",
   "version": "3.8.10"
  }
 },
 "nbformat": 4,
 "nbformat_minor": 5
}
